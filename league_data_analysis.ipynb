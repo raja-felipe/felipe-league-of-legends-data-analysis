{
    "cells": [
        {
            "attachments": {},
            "cell_type": "markdown",
            "metadata": {},
            "source": [
                "# **ASSIGNMENT 2 CODE**\n",
                "- Aim: Find predictors of performance models for these following target variables\n",
                "    - Kda\n",
                "    - Gold_earned\n",
                "    - Damage_total\n",
                "- The following are used as potential predictors:\n",
                "    - Assists\n",
                "    - Vision Score\n",
                "    - damage_objectives\n",
                "    - damage_turrets\n",
                "    - damage_buildings\n",
                "    - kills\n",
                "    - deaths\n",
                "    - Assists\n",
                "    - time_cc\n",
                "    - damage_taken\n",
                "    - turret_kills\n",
                "    "
            ]
        },
        {
            "cell_type": "code",
            "execution_count": 9,
            "metadata": {},
            "outputs": [],
            "source": [
                "import pandas as pd\n",
                "import sys\n",
                "import os\n",
                "import matplotlib.pyplot as plt\n",
                "import numpy as np\n",
                "import math\n",
                "import sklearn\n",
                "import seaborn as sns\n",
                "import numpy.ma as ma\n",
                "from sklearn.cluster import KMeans\n",
                "from sklearn import preprocessing\n",
                "from sklearn.decomposition import PCA\n",
                "from sklearn.model_selection import train_test_split\n",
                "from mpl_toolkits.mplot3d import Axes3D\n",
                "from mpl_toolkits import mplot3d\n",
                "from sklearn.model_selection import KFold\n",
                "from sklearn.model_selection import cross_val_score\n",
                "from sklearn.linear_model import LinearRegression\n",
                "from sklearn.linear_model import LogisticRegression\n",
                "from sklearn.metrics import mean_squared_error, r2_score\n",
                "from sklearn.feature_selection import SelectKBest, f_regression\n",
                "from sklearn.preprocessing import PolynomialFeatures\n",
                "from sklearn.impute import SimpleImputer\n",
                "from IPython.display import Image\n",
                "from random import randrange\n",
                "pd.options.mode.chained_assignment = None  # default='warn'\n",
                "# Insert the desired path here\n",
                "import sys"
            ]
        },
        {
            "cell_type": "code",
            "execution_count": 8,
            "id": "c6f04930",
            "metadata": {},
            "outputs": [],
            "source": [
                "%store -r path"
            ]
        },
        {
            "attachments": {},
            "cell_type": "markdown",
            "metadata": {},
            "source": [
                "# **STEP 1**\n",
                "- Create the dataframe that you need\n",
                "- Assume you need all of the data \n",
                "\n",
                "---\n",
                "\n"
            ]
        },
        {
            "cell_type": "code",
            "execution_count": 6,
            "metadata": {},
            "outputs": [
                {
                    "ename": "NameError",
                    "evalue": "name 'path' is not defined",
                    "output_type": "error",
                    "traceback": [
                        "\u001b[1;31m---------------------------------------------------------------------------\u001b[0m",
                        "\u001b[1;31mNameError\u001b[0m                                 Traceback (most recent call last)",
                        "\u001b[1;32mc:\\Users\\kilik\\Documents\\COLLEGE\\GITHUB_STUFF\\felipe-league-of-legends-data-analysis\\league_data_analysis.ipynb Cell 4\u001b[0m in \u001b[0;36m<cell line: 1>\u001b[1;34m()\u001b[0m\n\u001b[1;32m----> <a href='vscode-notebook-cell:/c%3A/Users/kilik/Documents/COLLEGE/GITHUB_STUFF/felipe-league-of-legends-data-analysis/league_data_analysis.ipynb#W3sZmlsZQ%3D%3D?line=0'>1</a>\u001b[0m NA \u001b[39m=\u001b[39m pd\u001b[39m.\u001b[39mread_csv(\u001b[39mf\u001b[39m\u001b[39m'\u001b[39m\u001b[39m{\u001b[39;00mpath\u001b[39m}\u001b[39;00m\u001b[39mNAmatch.csv\u001b[39m\u001b[39m'\u001b[39m)\n\u001b[0;32m      <a href='vscode-notebook-cell:/c%3A/Users/kilik/Documents/COLLEGE/GITHUB_STUFF/felipe-league-of-legends-data-analysis/league_data_analysis.ipynb#W3sZmlsZQ%3D%3D?line=1'>2</a>\u001b[0m KR \u001b[39m=\u001b[39m pd\u001b[39m.\u001b[39mread_csv(\u001b[39mf\u001b[39m\u001b[39m'\u001b[39m\u001b[39m{\u001b[39;00mpath\u001b[39m}\u001b[39;00m\u001b[39mKRmatch.csv\u001b[39m\u001b[39m'\u001b[39m)\n\u001b[0;32m      <a href='vscode-notebook-cell:/c%3A/Users/kilik/Documents/COLLEGE/GITHUB_STUFF/felipe-league-of-legends-data-analysis/league_data_analysis.ipynb#W3sZmlsZQ%3D%3D?line=2'>3</a>\u001b[0m EU \u001b[39m=\u001b[39m pd\u001b[39m.\u001b[39mread_csv(\u001b[39mf\u001b[39m\u001b[39m'\u001b[39m\u001b[39m{\u001b[39;00mpath\u001b[39m}\u001b[39;00m\u001b[39mEUmatch.csv\u001b[39m\u001b[39m'\u001b[39m)\n",
                        "\u001b[1;31mNameError\u001b[0m: name 'path' is not defined"
                    ]
                }
            ],
            "source": [
                "NA = pd.read_csv(f'{path}NAmatch.csv')\n",
                "KR = pd.read_csv(f'{path}KRmatch.csv')\n",
                "EU = pd.read_csv(f'{path}EUmatch.csv')\n",
                "\n",
                "ALL = pd.concat([NA, KR, EU], ignore_index=True)\n",
                "\n",
                "ALL_train, ALL_test = train_test_split(ALL, train_size=0.7)\n",
                "\n",
                "# test kfolds cross validation\n",
                "ALL = ALL.iloc[:, 4:18]"
            ]
        },
        {
            "attachments": {},
            "cell_type": "markdown",
            "metadata": {},
            "source": [
                "- Will only be using the numerical columns in the data set, so we need to filter these out"
            ]
        },
        {
            "cell_type": "code",
            "execution_count": null,
            "metadata": {},
            "outputs": [],
            "source": [
                "ALL_train = ALL_train.iloc[:, 4:18]\n",
                "ALL_test = ALL_test.iloc[:, 4:18]\n",
                "# Need this when kfolds cross validation is done later\n",
                "ALL_train_empty = ALL_train.copy()"
            ]
        },
        {
            "attachments": {},
            "cell_type": "markdown",
            "metadata": {},
            "source": [
                "# **STEP 2**\n",
                "- Justify the imputation over removal of the data\n",
                "- Determine the imputation method (mean, median)\n",
                "- This will be done by examining the histogram lots\n",
                "\n",
                "---\n",
                "\n",
                "\n"
            ]
        },
        {
            "attachments": {},
            "cell_type": "markdown",
            "metadata": {},
            "source": [
                "- First thing is to check how many entries per column that will be used in the data experiment are NaN values"
            ]
        },
        {
            "cell_type": "code",
            "execution_count": null,
            "metadata": {},
            "outputs": [
                {
                    "data": {
                        "text/plain": [
                            "(12059, 14)"
                        ]
                    },
                    "execution_count": 135,
                    "metadata": {},
                    "output_type": "execute_result"
                }
            ],
            "source": [
                "ALL_train.shape"
            ]
        },
        {
            "cell_type": "code",
            "execution_count": null,
            "metadata": {},
            "outputs": [
                {
                    "data": {
                        "text/plain": [
                            "assists              601\n",
                            "damage_objectives    580\n",
                            "damage_building      584\n",
                            "damage_turrets       582\n",
                            "deaths               581\n",
                            "kda                  596\n",
                            "kills                561\n",
                            "level                572\n",
                            "time_cc              613\n",
                            "damage_taken         604\n",
                            "turret_kills         604\n",
                            "vision_score         590\n",
                            "damage_total           0\n",
                            "gold_earned            0\n",
                            "dtype: int64"
                        ]
                    },
                    "execution_count": 136,
                    "metadata": {},
                    "output_type": "execute_result"
                }
            ],
            "source": [
                "ALL_train.isna().sum()"
            ]
        },
        {
            "cell_type": "code",
            "execution_count": null,
            "metadata": {},
            "outputs": [
                {
                    "data": {
                        "text/plain": [
                            "(5169, 14)"
                        ]
                    },
                    "execution_count": 137,
                    "metadata": {},
                    "output_type": "execute_result"
                }
            ],
            "source": [
                "ALL_test.shape"
            ]
        },
        {
            "cell_type": "code",
            "execution_count": null,
            "metadata": {},
            "outputs": [
                {
                    "data": {
                        "text/plain": [
                            "assists              280\n",
                            "damage_objectives    259\n",
                            "damage_building      250\n",
                            "damage_turrets       288\n",
                            "deaths               236\n",
                            "kda                  246\n",
                            "kills                267\n",
                            "level                252\n",
                            "time_cc              264\n",
                            "damage_taken         225\n",
                            "turret_kills         229\n",
                            "vision_score         265\n",
                            "damage_total           0\n",
                            "gold_earned            0\n",
                            "dtype: int64"
                        ]
                    },
                    "execution_count": 138,
                    "metadata": {},
                    "output_type": "execute_result"
                }
            ],
            "source": [
                "ALL_test.isna().sum()"
            ]
        },
        {
            "attachments": {},
            "cell_type": "markdown",
            "metadata": {},
            "source": [
                "- As seen in the following entries, we know that  there are ~600 missing entries for each column, but there are 12059 total entries for the training set\n",
                "- For the test set, there are ~240 missing entries per column, but the total number of coluns are 5169\n",
                "- Both of this amount to ~4% of the data. This is a small number and thus we can justify imputation of the mean without worry towards possibly skewing the data unintentionally"
            ]
        },
        {
            "cell_type": "code",
            "execution_count": null,
            "metadata": {},
            "outputs": [],
            "source": [
                "def get_histograms(df):\n",
                "    # Get the histogram from each column\n",
                "    numbers = df.columns\n",
                "    horizontal = (len(numbers)//2)\n",
                "    col = 0\n",
                "    # Make the figure to store subplots in\n",
                "    fig, ax = plt.subplots(2, horizontal, figsize=(20, 10))\n",
                "    plt.suptitle(f'Histograms of Every Numerical Variable in All Regions', fontsize=40, fontweight='bold')\n",
                "    for i in range(2):\n",
                "        for j in range(horizontal):\n",
                "            # Get histogram of each numerical column in the\n",
                "            # dataframe then save the file\n",
                "            ax[i, j].hist(df.iloc[:,col], edgecolor='black', linewidth=1.2)\n",
                "            if (col==0) or (col==7):\n",
                "                ax[i, j].set_ylabel(\"Frequency\", fontsize=20, fontdict=dict(weight='bold'))\n",
                "            ax[i, j].set_xlabel(f'{numbers[col]}', \n",
                "                fontsize=10, fontdict=dict(weight='bold'))\n",
                "            #plt.yticks(fontsize=35)\n",
                "            #plt.xticks(fontsize=35)\n",
                "            ax[i, j].grid(True)\n",
                "            col = col + 1\n",
                "    col = 4\n",
                "    # set the spacing between subplots\n",
                "    plt.subplots_adjust(wspace=0.5)\n",
                "    plt.savefig(f'{path}histograms.png')\n",
                "    plt.close()"
            ]
        },
        {
            "cell_type": "code",
            "execution_count": null,
            "metadata": {},
            "outputs": [],
            "source": [
                "get_histograms(ALL_train)"
            ]
        },
        {
            "cell_type": "code",
            "execution_count": null,
            "metadata": {},
            "outputs": [],
            "source": [
                "ALL_train.fillna(ALL_train.median(), inplace=True)\n",
                "\n",
                "for col in ALL_test.columns:\n",
                "    ALL_test[col].fillna(ALL_train.median(), inplace=True)"
            ]
        },
        {
            "attachments": {},
            "cell_type": "markdown",
            "metadata": {},
            "source": [
                "- Now you know that the histogram determines the best imputation value is the median, since all the values are skewed"
            ]
        },
        {
            "attachments": {},
            "cell_type": "markdown",
            "metadata": {},
            "source": [
                "# **STEP 3**\n",
                "- Now we determine the features to select for each of the three targets:\n",
                "    - kda\n",
                "    - gold_earned\n",
                "    - damage_total\n",
                "\n",
                "---\n",
                "\n"
            ]
        },
        {
            "attachments": {},
            "cell_type": "markdown",
            "metadata": {},
            "source": [
                "## **KDA**\n",
                "- Since you know the target variable is a continuous variable, we can try make a multivariate linear regression line to predit the data\n",
                "- This means we should get the Pearson Coefficient values of each feature with KDA to decide which features we want to keep and discard\n",
                "\n",
                "---\n",
                "\n"
            ]
        },
        {
            "cell_type": "code",
            "execution_count": null,
            "metadata": {},
            "outputs": [],
            "source": [
                "# OUTLIER REMOVER FOR kda\n",
                "def kda_outliers(df):\n",
                "    new = df[df['kda'] < 30]\n",
                "    return new"
            ]
        },
        {
            "cell_type": "code",
            "execution_count": null,
            "metadata": {},
            "outputs": [
                {
                    "data": {
                        "text/html": [
                            "<div>\n",
                            "<style scoped>\n",
                            "    .dataframe tbody tr th:only-of-type {\n",
                            "        vertical-align: middle;\n",
                            "    }\n",
                            "\n",
                            "    .dataframe tbody tr th {\n",
                            "        vertical-align: top;\n",
                            "    }\n",
                            "\n",
                            "    .dataframe thead th {\n",
                            "        text-align: right;\n",
                            "    }\n",
                            "</style>\n",
                            "<table border=\"1\" class=\"dataframe\">\n",
                            "  <thead>\n",
                            "    <tr style=\"text-align: right;\">\n",
                            "      <th></th>\n",
                            "      <th>assists</th>\n",
                            "      <th>damage_objectives</th>\n",
                            "      <th>damage_building</th>\n",
                            "      <th>damage_turrets</th>\n",
                            "      <th>deaths</th>\n",
                            "      <th>kills</th>\n",
                            "      <th>level</th>\n",
                            "      <th>time_cc</th>\n",
                            "      <th>damage_taken</th>\n",
                            "      <th>turret_kills</th>\n",
                            "      <th>vision_score</th>\n",
                            "      <th>damage_total</th>\n",
                            "      <th>gold_earned</th>\n",
                            "    </tr>\n",
                            "  </thead>\n",
                            "  <tbody>\n",
                            "    <tr>\n",
                            "      <th>2089</th>\n",
                            "      <td>9.0</td>\n",
                            "      <td>982.0</td>\n",
                            "      <td>30624.0</td>\n",
                            "      <td>982.0</td>\n",
                            "      <td>4.0</td>\n",
                            "      <td>7.0</td>\n",
                            "      <td>14.0</td>\n",
                            "      <td>23.0</td>\n",
                            "      <td>24515.0</td>\n",
                            "      <td>1.0</td>\n",
                            "      <td>20.0</td>\n",
                            "      <td>141810</td>\n",
                            "      <td>10224</td>\n",
                            "    </tr>\n",
                            "    <tr>\n",
                            "      <th>5051</th>\n",
                            "      <td>1.0</td>\n",
                            "      <td>1456.0</td>\n",
                            "      <td>1456.0</td>\n",
                            "      <td>1456.0</td>\n",
                            "      <td>6.0</td>\n",
                            "      <td>4.0</td>\n",
                            "      <td>11.0</td>\n",
                            "      <td>14.0</td>\n",
                            "      <td>18969.0</td>\n",
                            "      <td>0.0</td>\n",
                            "      <td>7.0</td>\n",
                            "      <td>58074</td>\n",
                            "      <td>6861</td>\n",
                            "    </tr>\n",
                            "    <tr>\n",
                            "      <th>2519</th>\n",
                            "      <td>8.0</td>\n",
                            "      <td>1043.0</td>\n",
                            "      <td>17865.0</td>\n",
                            "      <td>1518.0</td>\n",
                            "      <td>6.0</td>\n",
                            "      <td>9.0</td>\n",
                            "      <td>14.0</td>\n",
                            "      <td>16.0</td>\n",
                            "      <td>28653.0</td>\n",
                            "      <td>1.0</td>\n",
                            "      <td>26.0</td>\n",
                            "      <td>176947</td>\n",
                            "      <td>13906</td>\n",
                            "    </tr>\n",
                            "    <tr>\n",
                            "      <th>11888</th>\n",
                            "      <td>5.0</td>\n",
                            "      <td>84.0</td>\n",
                            "      <td>84.0</td>\n",
                            "      <td>84.0</td>\n",
                            "      <td>7.0</td>\n",
                            "      <td>0.0</td>\n",
                            "      <td>13.0</td>\n",
                            "      <td>0.0</td>\n",
                            "      <td>14579.0</td>\n",
                            "      <td>0.0</td>\n",
                            "      <td>15.0</td>\n",
                            "      <td>101156</td>\n",
                            "      <td>8019</td>\n",
                            "    </tr>\n",
                            "    <tr>\n",
                            "      <th>9495</th>\n",
                            "      <td>7.0</td>\n",
                            "      <td>2672.0</td>\n",
                            "      <td>5425.0</td>\n",
                            "      <td>2672.0</td>\n",
                            "      <td>8.0</td>\n",
                            "      <td>1.0</td>\n",
                            "      <td>14.0</td>\n",
                            "      <td>15.0</td>\n",
                            "      <td>31215.0</td>\n",
                            "      <td>1.0</td>\n",
                            "      <td>20.0</td>\n",
                            "      <td>123361</td>\n",
                            "      <td>10341</td>\n",
                            "    </tr>\n",
                            "    <tr>\n",
                            "      <th>...</th>\n",
                            "      <td>...</td>\n",
                            "      <td>...</td>\n",
                            "      <td>...</td>\n",
                            "      <td>...</td>\n",
                            "      <td>...</td>\n",
                            "      <td>...</td>\n",
                            "      <td>...</td>\n",
                            "      <td>...</td>\n",
                            "      <td>...</td>\n",
                            "      <td>...</td>\n",
                            "      <td>...</td>\n",
                            "      <td>...</td>\n",
                            "      <td>...</td>\n",
                            "    </tr>\n",
                            "    <tr>\n",
                            "      <th>6919</th>\n",
                            "      <td>14.0</td>\n",
                            "      <td>1403.0</td>\n",
                            "      <td>1462.0</td>\n",
                            "      <td>1403.0</td>\n",
                            "      <td>1.0</td>\n",
                            "      <td>2.0</td>\n",
                            "      <td>14.0</td>\n",
                            "      <td>29.0</td>\n",
                            "      <td>14914.0</td>\n",
                            "      <td>0.0</td>\n",
                            "      <td>99.0</td>\n",
                            "      <td>24460</td>\n",
                            "      <td>9263</td>\n",
                            "    </tr>\n",
                            "    <tr>\n",
                            "      <th>9391</th>\n",
                            "      <td>12.0</td>\n",
                            "      <td>846.0</td>\n",
                            "      <td>22564.0</td>\n",
                            "      <td>846.0</td>\n",
                            "      <td>6.0</td>\n",
                            "      <td>11.0</td>\n",
                            "      <td>17.0</td>\n",
                            "      <td>8.0</td>\n",
                            "      <td>28571.0</td>\n",
                            "      <td>0.0</td>\n",
                            "      <td>38.0</td>\n",
                            "      <td>202401</td>\n",
                            "      <td>14917</td>\n",
                            "    </tr>\n",
                            "    <tr>\n",
                            "      <th>10206</th>\n",
                            "      <td>11.0</td>\n",
                            "      <td>788.0</td>\n",
                            "      <td>788.0</td>\n",
                            "      <td>788.0</td>\n",
                            "      <td>5.0</td>\n",
                            "      <td>12.0</td>\n",
                            "      <td>14.0</td>\n",
                            "      <td>25.0</td>\n",
                            "      <td>17869.0</td>\n",
                            "      <td>0.0</td>\n",
                            "      <td>151.0</td>\n",
                            "      <td>38894</td>\n",
                            "      <td>16258</td>\n",
                            "    </tr>\n",
                            "    <tr>\n",
                            "      <th>7292</th>\n",
                            "      <td>23.0</td>\n",
                            "      <td>750.0</td>\n",
                            "      <td>1292.0</td>\n",
                            "      <td>750.0</td>\n",
                            "      <td>9.0</td>\n",
                            "      <td>0.0</td>\n",
                            "      <td>14.0</td>\n",
                            "      <td>27.0</td>\n",
                            "      <td>23224.0</td>\n",
                            "      <td>0.0</td>\n",
                            "      <td>103.0</td>\n",
                            "      <td>20416</td>\n",
                            "      <td>8005</td>\n",
                            "    </tr>\n",
                            "    <tr>\n",
                            "      <th>9191</th>\n",
                            "      <td>8.0</td>\n",
                            "      <td>0.0</td>\n",
                            "      <td>0.0</td>\n",
                            "      <td>0.0</td>\n",
                            "      <td>1.0</td>\n",
                            "      <td>1.0</td>\n",
                            "      <td>10.0</td>\n",
                            "      <td>19.0</td>\n",
                            "      <td>9710.0</td>\n",
                            "      <td>0.0</td>\n",
                            "      <td>8.0</td>\n",
                            "      <td>17418</td>\n",
                            "      <td>4461</td>\n",
                            "    </tr>\n",
                            "  </tbody>\n",
                            "</table>\n",
                            "<p>12059 rows × 13 columns</p>\n",
                            "</div>"
                        ],
                        "text/plain": [
                            "       assists  damage_objectives  damage_building  damage_turrets  deaths  \\\n",
                            "2089       9.0              982.0          30624.0           982.0     4.0   \n",
                            "5051       1.0             1456.0           1456.0          1456.0     6.0   \n",
                            "2519       8.0             1043.0          17865.0          1518.0     6.0   \n",
                            "11888      5.0               84.0             84.0            84.0     7.0   \n",
                            "9495       7.0             2672.0           5425.0          2672.0     8.0   \n",
                            "...        ...                ...              ...             ...     ...   \n",
                            "6919      14.0             1403.0           1462.0          1403.0     1.0   \n",
                            "9391      12.0              846.0          22564.0           846.0     6.0   \n",
                            "10206     11.0              788.0            788.0           788.0     5.0   \n",
                            "7292      23.0              750.0           1292.0           750.0     9.0   \n",
                            "9191       8.0                0.0              0.0             0.0     1.0   \n",
                            "\n",
                            "       kills  level  time_cc  damage_taken  turret_kills  vision_score  \\\n",
                            "2089     7.0   14.0     23.0       24515.0           1.0          20.0   \n",
                            "5051     4.0   11.0     14.0       18969.0           0.0           7.0   \n",
                            "2519     9.0   14.0     16.0       28653.0           1.0          26.0   \n",
                            "11888    0.0   13.0      0.0       14579.0           0.0          15.0   \n",
                            "9495     1.0   14.0     15.0       31215.0           1.0          20.0   \n",
                            "...      ...    ...      ...           ...           ...           ...   \n",
                            "6919     2.0   14.0     29.0       14914.0           0.0          99.0   \n",
                            "9391    11.0   17.0      8.0       28571.0           0.0          38.0   \n",
                            "10206   12.0   14.0     25.0       17869.0           0.0         151.0   \n",
                            "7292     0.0   14.0     27.0       23224.0           0.0         103.0   \n",
                            "9191     1.0   10.0     19.0        9710.0           0.0           8.0   \n",
                            "\n",
                            "       damage_total  gold_earned  \n",
                            "2089         141810        10224  \n",
                            "5051          58074         6861  \n",
                            "2519         176947        13906  \n",
                            "11888        101156         8019  \n",
                            "9495         123361        10341  \n",
                            "...             ...          ...  \n",
                            "6919          24460         9263  \n",
                            "9391         202401        14917  \n",
                            "10206         38894        16258  \n",
                            "7292          20416         8005  \n",
                            "9191          17418         4461  \n",
                            "\n",
                            "[12059 rows x 13 columns]"
                        ]
                    },
                    "execution_count": 143,
                    "metadata": {},
                    "output_type": "execute_result"
                }
            ],
            "source": [
                "ALL_train[[x for x in ALL_train.columns if x != 'kda']]"
            ]
        },
        {
            "cell_type": "code",
            "execution_count": null,
            "metadata": {},
            "outputs": [],
            "source": [
                "# HELPER FUNCTION TO CREATE THE PLOT FOR THE target\n",
                "def pearson_plot(df, target, outlier_remove, folder, exclude=None):\n",
                "    # Exclude is a list if we dont want any more variables\n",
                "    if exclude:\n",
                "        exclude.append(target)\n",
                "        X_col = [x for x in df.columns if not x in exclude]\n",
                "    else:\n",
                "        X_col = [x for x in df.columns if x != target]\n",
                "\n",
                "    return_dict = {'Features to Predict kda' : X_col, 'with_outliers': [], 'no_outliers': []}\n",
                "\n",
                "    for col in X_col:\n",
                "        # First create the big plot\n",
                "        fig, ax = plt.subplots(1, 2, figsize=(20,10))\n",
                "        plt.suptitle(f'Plot of {col} against {target}', fontsize=40, fontweight='bold')\n",
                "\n",
                "        # With Outliers\n",
                "        ax[0].set_xlabel(f'{col} with Outliers', fontsize=10, fontdict=dict(weight='bold'))\n",
                "        \n",
                "        X = df[col]\n",
                "        y = df[target]\n",
                "\n",
                "        ax[0].plot(X, y, 'o')\n",
                "\n",
                "        m, b = np.polyfit(X, y, 1)\n",
                "\n",
                "        ax[0].plot(X, m*X + b)\n",
                "\n",
                "        # Append Pearson correlation of values with Outliers\n",
                "        return_dict['with_outliers'].append(np.corrcoef(X, y)[0][1])\n",
                "\n",
                "        # Wihtout Outliers\n",
                "        ax[1].set_xlabel(f'{col} without Outliers', fontsize=10, fontdict=dict(weight='bold'))\n",
                "        without = outlier_remove(df)\n",
                "        \n",
                "        X = without[col]\n",
                "        y = without[target]\n",
                "\n",
                "        ax[1].plot(X, y, 'o')\n",
                "\n",
                "        m, b = np.polyfit(X, y, 1)\n",
                "\n",
                "        ax[1].plot(X, m*X + b)\n",
                "\n",
                "        #Add Additional Titles\n",
                "        ax[0].set_ylabel(f'{target}', fontsize=20, fontdict=dict(weight='bold'))\n",
                "\n",
                "        # Append Pearson correlation of values without Outliers\n",
                "        return_dict['no_outliers'].append(np.corrcoef(X, y)[0][1])\n",
                "    \n",
                "        # Save the figure\n",
                "        plt.savefig(f'{path}{folder}/{col}.png')\n",
                "        plt.close()\n",
                "\n",
                "    return return_dict\n",
                "\n"
            ]
        },
        {
            "cell_type": "code",
            "execution_count": null,
            "metadata": {},
            "outputs": [],
            "source": [
                "return_dict = pearson_plot(ALL_train, 'kda', kda_outliers, 'kda_pearson')\n",
                "pearson_kda = pd.DataFrame.from_dict(return_dict)"
            ]
        },
        {
            "cell_type": "code",
            "execution_count": null,
            "metadata": {},
            "outputs": [
                {
                    "data": {
                        "text/html": [
                            "<div>\n",
                            "<style scoped>\n",
                            "    .dataframe tbody tr th:only-of-type {\n",
                            "        vertical-align: middle;\n",
                            "    }\n",
                            "\n",
                            "    .dataframe tbody tr th {\n",
                            "        vertical-align: top;\n",
                            "    }\n",
                            "\n",
                            "    .dataframe thead th {\n",
                            "        text-align: right;\n",
                            "    }\n",
                            "</style>\n",
                            "<table border=\"1\" class=\"dataframe\">\n",
                            "  <thead>\n",
                            "    <tr style=\"text-align: right;\">\n",
                            "      <th></th>\n",
                            "      <th>Features to Predict kda</th>\n",
                            "      <th>with_outliers</th>\n",
                            "      <th>no_outliers</th>\n",
                            "    </tr>\n",
                            "  </thead>\n",
                            "  <tbody>\n",
                            "    <tr>\n",
                            "      <th>0</th>\n",
                            "      <td>assists</td>\n",
                            "      <td>0.307251</td>\n",
                            "      <td>0.301740</td>\n",
                            "    </tr>\n",
                            "    <tr>\n",
                            "      <th>1</th>\n",
                            "      <td>damage_objectives</td>\n",
                            "      <td>0.194858</td>\n",
                            "      <td>0.197669</td>\n",
                            "    </tr>\n",
                            "    <tr>\n",
                            "      <th>2</th>\n",
                            "      <td>damage_building</td>\n",
                            "      <td>0.269156</td>\n",
                            "      <td>0.268499</td>\n",
                            "    </tr>\n",
                            "    <tr>\n",
                            "      <th>3</th>\n",
                            "      <td>damage_turrets</td>\n",
                            "      <td>0.194204</td>\n",
                            "      <td>0.197011</td>\n",
                            "    </tr>\n",
                            "    <tr>\n",
                            "      <th>4</th>\n",
                            "      <td>deaths</td>\n",
                            "      <td>-0.589239</td>\n",
                            "      <td>-0.591245</td>\n",
                            "    </tr>\n",
                            "    <tr>\n",
                            "      <th>5</th>\n",
                            "      <td>kills</td>\n",
                            "      <td>0.323854</td>\n",
                            "      <td>0.328270</td>\n",
                            "    </tr>\n",
                            "    <tr>\n",
                            "      <th>6</th>\n",
                            "      <td>level</td>\n",
                            "      <td>0.134856</td>\n",
                            "      <td>0.134487</td>\n",
                            "    </tr>\n",
                            "    <tr>\n",
                            "      <th>7</th>\n",
                            "      <td>time_cc</td>\n",
                            "      <td>0.054426</td>\n",
                            "      <td>0.052215</td>\n",
                            "    </tr>\n",
                            "    <tr>\n",
                            "      <th>8</th>\n",
                            "      <td>damage_taken</td>\n",
                            "      <td>-0.132875</td>\n",
                            "      <td>-0.134216</td>\n",
                            "    </tr>\n",
                            "    <tr>\n",
                            "      <th>9</th>\n",
                            "      <td>turret_kills</td>\n",
                            "      <td>0.232992</td>\n",
                            "      <td>0.235812</td>\n",
                            "    </tr>\n",
                            "    <tr>\n",
                            "      <th>10</th>\n",
                            "      <td>vision_score</td>\n",
                            "      <td>0.082812</td>\n",
                            "      <td>0.081077</td>\n",
                            "    </tr>\n",
                            "    <tr>\n",
                            "      <th>11</th>\n",
                            "      <td>damage_total</td>\n",
                            "      <td>0.080911</td>\n",
                            "      <td>0.081208</td>\n",
                            "    </tr>\n",
                            "    <tr>\n",
                            "      <th>12</th>\n",
                            "      <td>gold_earned</td>\n",
                            "      <td>0.190805</td>\n",
                            "      <td>0.191291</td>\n",
                            "    </tr>\n",
                            "  </tbody>\n",
                            "</table>\n",
                            "</div>"
                        ],
                        "text/plain": [
                            "   Features to Predict kda  with_outliers  no_outliers\n",
                            "0                  assists       0.307251     0.301740\n",
                            "1        damage_objectives       0.194858     0.197669\n",
                            "2          damage_building       0.269156     0.268499\n",
                            "3           damage_turrets       0.194204     0.197011\n",
                            "4                   deaths      -0.589239    -0.591245\n",
                            "5                    kills       0.323854     0.328270\n",
                            "6                    level       0.134856     0.134487\n",
                            "7                  time_cc       0.054426     0.052215\n",
                            "8             damage_taken      -0.132875    -0.134216\n",
                            "9             turret_kills       0.232992     0.235812\n",
                            "10            vision_score       0.082812     0.081077\n",
                            "11            damage_total       0.080911     0.081208\n",
                            "12             gold_earned       0.190805     0.191291"
                        ]
                    },
                    "execution_count": 146,
                    "metadata": {},
                    "output_type": "execute_result"
                }
            ],
            "source": [
                "pearson_kda"
            ]
        },
        {
            "cell_type": "code",
            "execution_count": null,
            "metadata": {},
            "outputs": [
                {
                    "data": {
                        "text/html": [
                            "<div>\n",
                            "<style scoped>\n",
                            "    .dataframe tbody tr th:only-of-type {\n",
                            "        vertical-align: middle;\n",
                            "    }\n",
                            "\n",
                            "    .dataframe tbody tr th {\n",
                            "        vertical-align: top;\n",
                            "    }\n",
                            "\n",
                            "    .dataframe thead th {\n",
                            "        text-align: right;\n",
                            "    }\n",
                            "</style>\n",
                            "<table border=\"1\" class=\"dataframe\">\n",
                            "  <thead>\n",
                            "    <tr style=\"text-align: right;\">\n",
                            "      <th></th>\n",
                            "      <th>assists</th>\n",
                            "      <th>damage_objectives</th>\n",
                            "      <th>damage_building</th>\n",
                            "      <th>damage_turrets</th>\n",
                            "      <th>deaths</th>\n",
                            "      <th>kills</th>\n",
                            "      <th>level</th>\n",
                            "      <th>time_cc</th>\n",
                            "      <th>damage_taken</th>\n",
                            "      <th>turret_kills</th>\n",
                            "      <th>vision_score</th>\n",
                            "      <th>damage_total</th>\n",
                            "      <th>gold_earned</th>\n",
                            "    </tr>\n",
                            "  </thead>\n",
                            "  <tbody>\n",
                            "    <tr>\n",
                            "      <th>assists</th>\n",
                            "      <td>1.0000</td>\n",
                            "      <td>NaN</td>\n",
                            "      <td>NaN</td>\n",
                            "      <td>NaN</td>\n",
                            "      <td>NaN</td>\n",
                            "      <td>NaN</td>\n",
                            "      <td>NaN</td>\n",
                            "      <td>NaN</td>\n",
                            "      <td>NaN</td>\n",
                            "      <td>NaN</td>\n",
                            "      <td>0.5782</td>\n",
                            "      <td>NaN</td>\n",
                            "      <td>NaN</td>\n",
                            "    </tr>\n",
                            "    <tr>\n",
                            "      <th>damage_objectives</th>\n",
                            "      <td>NaN</td>\n",
                            "      <td>1.000000</td>\n",
                            "      <td>NaN</td>\n",
                            "      <td>0.955524</td>\n",
                            "      <td>NaN</td>\n",
                            "      <td>NaN</td>\n",
                            "      <td>NaN</td>\n",
                            "      <td>NaN</td>\n",
                            "      <td>NaN</td>\n",
                            "      <td>0.762789</td>\n",
                            "      <td>NaN</td>\n",
                            "      <td>NaN</td>\n",
                            "      <td>0.515487</td>\n",
                            "    </tr>\n",
                            "    <tr>\n",
                            "      <th>damage_building</th>\n",
                            "      <td>NaN</td>\n",
                            "      <td>NaN</td>\n",
                            "      <td>1.000000</td>\n",
                            "      <td>NaN</td>\n",
                            "      <td>NaN</td>\n",
                            "      <td>0.506921</td>\n",
                            "      <td>NaN</td>\n",
                            "      <td>NaN</td>\n",
                            "      <td>NaN</td>\n",
                            "      <td>NaN</td>\n",
                            "      <td>NaN</td>\n",
                            "      <td>0.652847</td>\n",
                            "      <td>0.574308</td>\n",
                            "    </tr>\n",
                            "    <tr>\n",
                            "      <th>damage_turrets</th>\n",
                            "      <td>NaN</td>\n",
                            "      <td>0.955524</td>\n",
                            "      <td>NaN</td>\n",
                            "      <td>1.000000</td>\n",
                            "      <td>NaN</td>\n",
                            "      <td>NaN</td>\n",
                            "      <td>NaN</td>\n",
                            "      <td>NaN</td>\n",
                            "      <td>NaN</td>\n",
                            "      <td>0.759931</td>\n",
                            "      <td>NaN</td>\n",
                            "      <td>NaN</td>\n",
                            "      <td>0.516349</td>\n",
                            "    </tr>\n",
                            "    <tr>\n",
                            "      <th>deaths</th>\n",
                            "      <td>NaN</td>\n",
                            "      <td>NaN</td>\n",
                            "      <td>NaN</td>\n",
                            "      <td>NaN</td>\n",
                            "      <td>1.0</td>\n",
                            "      <td>NaN</td>\n",
                            "      <td>NaN</td>\n",
                            "      <td>NaN</td>\n",
                            "      <td>NaN</td>\n",
                            "      <td>NaN</td>\n",
                            "      <td>NaN</td>\n",
                            "      <td>NaN</td>\n",
                            "      <td>NaN</td>\n",
                            "    </tr>\n",
                            "    <tr>\n",
                            "      <th>kills</th>\n",
                            "      <td>NaN</td>\n",
                            "      <td>NaN</td>\n",
                            "      <td>0.506921</td>\n",
                            "      <td>NaN</td>\n",
                            "      <td>NaN</td>\n",
                            "      <td>1.000000</td>\n",
                            "      <td>0.524960</td>\n",
                            "      <td>NaN</td>\n",
                            "      <td>NaN</td>\n",
                            "      <td>NaN</td>\n",
                            "      <td>NaN</td>\n",
                            "      <td>0.580848</td>\n",
                            "      <td>0.759388</td>\n",
                            "    </tr>\n",
                            "    <tr>\n",
                            "      <th>level</th>\n",
                            "      <td>NaN</td>\n",
                            "      <td>NaN</td>\n",
                            "      <td>NaN</td>\n",
                            "      <td>NaN</td>\n",
                            "      <td>NaN</td>\n",
                            "      <td>0.524960</td>\n",
                            "      <td>1.000000</td>\n",
                            "      <td>NaN</td>\n",
                            "      <td>0.609598</td>\n",
                            "      <td>NaN</td>\n",
                            "      <td>NaN</td>\n",
                            "      <td>0.747969</td>\n",
                            "      <td>0.859589</td>\n",
                            "    </tr>\n",
                            "    <tr>\n",
                            "      <th>time_cc</th>\n",
                            "      <td>NaN</td>\n",
                            "      <td>NaN</td>\n",
                            "      <td>NaN</td>\n",
                            "      <td>NaN</td>\n",
                            "      <td>NaN</td>\n",
                            "      <td>NaN</td>\n",
                            "      <td>NaN</td>\n",
                            "      <td>1.0</td>\n",
                            "      <td>NaN</td>\n",
                            "      <td>NaN</td>\n",
                            "      <td>NaN</td>\n",
                            "      <td>NaN</td>\n",
                            "      <td>NaN</td>\n",
                            "    </tr>\n",
                            "    <tr>\n",
                            "      <th>damage_taken</th>\n",
                            "      <td>NaN</td>\n",
                            "      <td>NaN</td>\n",
                            "      <td>NaN</td>\n",
                            "      <td>NaN</td>\n",
                            "      <td>NaN</td>\n",
                            "      <td>NaN</td>\n",
                            "      <td>0.609598</td>\n",
                            "      <td>NaN</td>\n",
                            "      <td>1.000000</td>\n",
                            "      <td>NaN</td>\n",
                            "      <td>NaN</td>\n",
                            "      <td>0.540868</td>\n",
                            "      <td>0.578462</td>\n",
                            "    </tr>\n",
                            "    <tr>\n",
                            "      <th>turret_kills</th>\n",
                            "      <td>NaN</td>\n",
                            "      <td>0.762789</td>\n",
                            "      <td>NaN</td>\n",
                            "      <td>0.759931</td>\n",
                            "      <td>NaN</td>\n",
                            "      <td>NaN</td>\n",
                            "      <td>NaN</td>\n",
                            "      <td>NaN</td>\n",
                            "      <td>NaN</td>\n",
                            "      <td>1.000000</td>\n",
                            "      <td>NaN</td>\n",
                            "      <td>NaN</td>\n",
                            "      <td>0.527266</td>\n",
                            "    </tr>\n",
                            "    <tr>\n",
                            "      <th>vision_score</th>\n",
                            "      <td>0.5782</td>\n",
                            "      <td>NaN</td>\n",
                            "      <td>NaN</td>\n",
                            "      <td>NaN</td>\n",
                            "      <td>NaN</td>\n",
                            "      <td>NaN</td>\n",
                            "      <td>NaN</td>\n",
                            "      <td>NaN</td>\n",
                            "      <td>NaN</td>\n",
                            "      <td>NaN</td>\n",
                            "      <td>1.0000</td>\n",
                            "      <td>NaN</td>\n",
                            "      <td>NaN</td>\n",
                            "    </tr>\n",
                            "    <tr>\n",
                            "      <th>damage_total</th>\n",
                            "      <td>NaN</td>\n",
                            "      <td>NaN</td>\n",
                            "      <td>0.652847</td>\n",
                            "      <td>NaN</td>\n",
                            "      <td>NaN</td>\n",
                            "      <td>0.580848</td>\n",
                            "      <td>0.747969</td>\n",
                            "      <td>NaN</td>\n",
                            "      <td>0.540868</td>\n",
                            "      <td>NaN</td>\n",
                            "      <td>NaN</td>\n",
                            "      <td>1.000000</td>\n",
                            "      <td>0.851133</td>\n",
                            "    </tr>\n",
                            "    <tr>\n",
                            "      <th>gold_earned</th>\n",
                            "      <td>NaN</td>\n",
                            "      <td>0.515487</td>\n",
                            "      <td>0.574308</td>\n",
                            "      <td>0.516349</td>\n",
                            "      <td>NaN</td>\n",
                            "      <td>0.759388</td>\n",
                            "      <td>0.859589</td>\n",
                            "      <td>NaN</td>\n",
                            "      <td>0.578462</td>\n",
                            "      <td>0.527266</td>\n",
                            "      <td>NaN</td>\n",
                            "      <td>0.851133</td>\n",
                            "      <td>1.000000</td>\n",
                            "    </tr>\n",
                            "  </tbody>\n",
                            "</table>\n",
                            "</div>"
                        ],
                        "text/plain": [
                            "                   assists  damage_objectives  damage_building  \\\n",
                            "assists             1.0000                NaN              NaN   \n",
                            "damage_objectives      NaN           1.000000              NaN   \n",
                            "damage_building        NaN                NaN         1.000000   \n",
                            "damage_turrets         NaN           0.955524              NaN   \n",
                            "deaths                 NaN                NaN              NaN   \n",
                            "kills                  NaN                NaN         0.506921   \n",
                            "level                  NaN                NaN              NaN   \n",
                            "time_cc                NaN                NaN              NaN   \n",
                            "damage_taken           NaN                NaN              NaN   \n",
                            "turret_kills           NaN           0.762789              NaN   \n",
                            "vision_score        0.5782                NaN              NaN   \n",
                            "damage_total           NaN                NaN         0.652847   \n",
                            "gold_earned            NaN           0.515487         0.574308   \n",
                            "\n",
                            "                   damage_turrets  deaths     kills     level  time_cc  \\\n",
                            "assists                       NaN     NaN       NaN       NaN      NaN   \n",
                            "damage_objectives        0.955524     NaN       NaN       NaN      NaN   \n",
                            "damage_building               NaN     NaN  0.506921       NaN      NaN   \n",
                            "damage_turrets           1.000000     NaN       NaN       NaN      NaN   \n",
                            "deaths                        NaN     1.0       NaN       NaN      NaN   \n",
                            "kills                         NaN     NaN  1.000000  0.524960      NaN   \n",
                            "level                         NaN     NaN  0.524960  1.000000      NaN   \n",
                            "time_cc                       NaN     NaN       NaN       NaN      1.0   \n",
                            "damage_taken                  NaN     NaN       NaN  0.609598      NaN   \n",
                            "turret_kills             0.759931     NaN       NaN       NaN      NaN   \n",
                            "vision_score                  NaN     NaN       NaN       NaN      NaN   \n",
                            "damage_total                  NaN     NaN  0.580848  0.747969      NaN   \n",
                            "gold_earned              0.516349     NaN  0.759388  0.859589      NaN   \n",
                            "\n",
                            "                   damage_taken  turret_kills  vision_score  damage_total  \\\n",
                            "assists                     NaN           NaN        0.5782           NaN   \n",
                            "damage_objectives           NaN      0.762789           NaN           NaN   \n",
                            "damage_building             NaN           NaN           NaN      0.652847   \n",
                            "damage_turrets              NaN      0.759931           NaN           NaN   \n",
                            "deaths                      NaN           NaN           NaN           NaN   \n",
                            "kills                       NaN           NaN           NaN      0.580848   \n",
                            "level                  0.609598           NaN           NaN      0.747969   \n",
                            "time_cc                     NaN           NaN           NaN           NaN   \n",
                            "damage_taken           1.000000           NaN           NaN      0.540868   \n",
                            "turret_kills                NaN      1.000000           NaN           NaN   \n",
                            "vision_score                NaN           NaN        1.0000           NaN   \n",
                            "damage_total           0.540868           NaN           NaN      1.000000   \n",
                            "gold_earned            0.578462      0.527266           NaN      0.851133   \n",
                            "\n",
                            "                   gold_earned  \n",
                            "assists                    NaN  \n",
                            "damage_objectives     0.515487  \n",
                            "damage_building       0.574308  \n",
                            "damage_turrets        0.516349  \n",
                            "deaths                     NaN  \n",
                            "kills                 0.759388  \n",
                            "level                 0.859589  \n",
                            "time_cc                    NaN  \n",
                            "damage_taken          0.578462  \n",
                            "turret_kills          0.527266  \n",
                            "vision_score               NaN  \n",
                            "damage_total          0.851133  \n",
                            "gold_earned           1.000000  "
                        ]
                    },
                    "execution_count": 147,
                    "metadata": {},
                    "output_type": "execute_result"
                }
            ],
            "source": [
                "check_collinearity_kda = ALL_train.drop('kda', axis=1).corr(method='pearson')\n",
                "check_collinearity_kda[check_collinearity_kda > 0.5]"
            ]
        },
        {
            "attachments": {},
            "cell_type": "markdown",
            "metadata": {},
            "source": [
                "- We can see from the data that the correlation coefficients are all less than 0.5 EXCEPT DEATHS\n",
                "- This means for the regression model to be created we are not expecting a strong model"
            ]
        },
        {
            "attachments": {},
            "cell_type": "markdown",
            "metadata": {},
            "source": [
                "## **GOLD_EARNED**\n",
                "\n",
                "---\n",
                "\n",
                "- Because this kind of data is discrete, it is not ideal to predict with a linear regression model\n",
                "- Another option is to use a Poisson or Negative Binomial Regression for the data"
            ]
        },
        {
            "cell_type": "code",
            "execution_count": null,
            "metadata": {},
            "outputs": [],
            "source": [
                "def gold_outliers(df):\n",
                "    new = df[df['gold_earned'] < 25000]\n",
                "    return new"
            ]
        },
        {
            "cell_type": "code",
            "execution_count": null,
            "metadata": {},
            "outputs": [],
            "source": [
                "return_dict = pearson_plot(ALL_train, 'gold_earned', gold_outliers, 'gold_pearson')\n",
                "pearson_gold = pd.DataFrame.from_dict(return_dict)"
            ]
        },
        {
            "cell_type": "code",
            "execution_count": null,
            "metadata": {},
            "outputs": [
                {
                    "data": {
                        "text/html": [
                            "<div>\n",
                            "<style scoped>\n",
                            "    .dataframe tbody tr th:only-of-type {\n",
                            "        vertical-align: middle;\n",
                            "    }\n",
                            "\n",
                            "    .dataframe tbody tr th {\n",
                            "        vertical-align: top;\n",
                            "    }\n",
                            "\n",
                            "    .dataframe thead th {\n",
                            "        text-align: right;\n",
                            "    }\n",
                            "</style>\n",
                            "<table border=\"1\" class=\"dataframe\">\n",
                            "  <thead>\n",
                            "    <tr style=\"text-align: right;\">\n",
                            "      <th></th>\n",
                            "      <th>Features to Predict kda</th>\n",
                            "      <th>with_outliers</th>\n",
                            "      <th>no_outliers</th>\n",
                            "    </tr>\n",
                            "  </thead>\n",
                            "  <tbody>\n",
                            "    <tr>\n",
                            "      <th>0</th>\n",
                            "      <td>assists</td>\n",
                            "      <td>0.198416</td>\n",
                            "      <td>0.198408</td>\n",
                            "    </tr>\n",
                            "    <tr>\n",
                            "      <th>1</th>\n",
                            "      <td>damage_objectives</td>\n",
                            "      <td>0.515487</td>\n",
                            "      <td>0.513209</td>\n",
                            "    </tr>\n",
                            "    <tr>\n",
                            "      <th>2</th>\n",
                            "      <td>damage_building</td>\n",
                            "      <td>0.574308</td>\n",
                            "      <td>0.571966</td>\n",
                            "    </tr>\n",
                            "    <tr>\n",
                            "      <th>3</th>\n",
                            "      <td>damage_turrets</td>\n",
                            "      <td>0.516349</td>\n",
                            "      <td>0.514059</td>\n",
                            "    </tr>\n",
                            "    <tr>\n",
                            "      <th>4</th>\n",
                            "      <td>deaths</td>\n",
                            "      <td>0.104034</td>\n",
                            "      <td>0.103831</td>\n",
                            "    </tr>\n",
                            "    <tr>\n",
                            "      <th>5</th>\n",
                            "      <td>kda</td>\n",
                            "      <td>0.190805</td>\n",
                            "      <td>0.191021</td>\n",
                            "    </tr>\n",
                            "    <tr>\n",
                            "      <th>6</th>\n",
                            "      <td>kills</td>\n",
                            "      <td>0.759388</td>\n",
                            "      <td>0.758436</td>\n",
                            "    </tr>\n",
                            "    <tr>\n",
                            "      <th>7</th>\n",
                            "      <td>level</td>\n",
                            "      <td>0.859589</td>\n",
                            "      <td>0.860429</td>\n",
                            "    </tr>\n",
                            "    <tr>\n",
                            "      <th>8</th>\n",
                            "      <td>time_cc</td>\n",
                            "      <td>0.063318</td>\n",
                            "      <td>0.063614</td>\n",
                            "    </tr>\n",
                            "    <tr>\n",
                            "      <th>9</th>\n",
                            "      <td>damage_taken</td>\n",
                            "      <td>0.578462</td>\n",
                            "      <td>0.577933</td>\n",
                            "    </tr>\n",
                            "    <tr>\n",
                            "      <th>10</th>\n",
                            "      <td>turret_kills</td>\n",
                            "      <td>0.527266</td>\n",
                            "      <td>0.525074</td>\n",
                            "    </tr>\n",
                            "    <tr>\n",
                            "      <th>11</th>\n",
                            "      <td>vision_score</td>\n",
                            "      <td>0.065866</td>\n",
                            "      <td>0.064291</td>\n",
                            "    </tr>\n",
                            "    <tr>\n",
                            "      <th>12</th>\n",
                            "      <td>damage_total</td>\n",
                            "      <td>0.851133</td>\n",
                            "      <td>0.849971</td>\n",
                            "    </tr>\n",
                            "  </tbody>\n",
                            "</table>\n",
                            "</div>"
                        ],
                        "text/plain": [
                            "   Features to Predict kda  with_outliers  no_outliers\n",
                            "0                  assists       0.198416     0.198408\n",
                            "1        damage_objectives       0.515487     0.513209\n",
                            "2          damage_building       0.574308     0.571966\n",
                            "3           damage_turrets       0.516349     0.514059\n",
                            "4                   deaths       0.104034     0.103831\n",
                            "5                      kda       0.190805     0.191021\n",
                            "6                    kills       0.759388     0.758436\n",
                            "7                    level       0.859589     0.860429\n",
                            "8                  time_cc       0.063318     0.063614\n",
                            "9             damage_taken       0.578462     0.577933\n",
                            "10            turret_kills       0.527266     0.525074\n",
                            "11            vision_score       0.065866     0.064291\n",
                            "12            damage_total       0.851133     0.849971"
                        ]
                    },
                    "execution_count": 150,
                    "metadata": {},
                    "output_type": "execute_result"
                }
            ],
            "source": [
                "pearson_gold"
            ]
        },
        {
            "cell_type": "code",
            "execution_count": null,
            "metadata": {},
            "outputs": [
                {
                    "data": {
                        "text/html": [
                            "<div>\n",
                            "<style scoped>\n",
                            "    .dataframe tbody tr th:only-of-type {\n",
                            "        vertical-align: middle;\n",
                            "    }\n",
                            "\n",
                            "    .dataframe tbody tr th {\n",
                            "        vertical-align: top;\n",
                            "    }\n",
                            "\n",
                            "    .dataframe thead th {\n",
                            "        text-align: right;\n",
                            "    }\n",
                            "</style>\n",
                            "<table border=\"1\" class=\"dataframe\">\n",
                            "  <thead>\n",
                            "    <tr style=\"text-align: right;\">\n",
                            "      <th></th>\n",
                            "      <th>assists</th>\n",
                            "      <th>damage_objectives</th>\n",
                            "      <th>damage_building</th>\n",
                            "      <th>damage_turrets</th>\n",
                            "      <th>deaths</th>\n",
                            "      <th>kda</th>\n",
                            "      <th>kills</th>\n",
                            "      <th>level</th>\n",
                            "      <th>time_cc</th>\n",
                            "      <th>damage_taken</th>\n",
                            "      <th>turret_kills</th>\n",
                            "      <th>vision_score</th>\n",
                            "      <th>damage_total</th>\n",
                            "    </tr>\n",
                            "  </thead>\n",
                            "  <tbody>\n",
                            "    <tr>\n",
                            "      <th>assists</th>\n",
                            "      <td>1.0000</td>\n",
                            "      <td>NaN</td>\n",
                            "      <td>NaN</td>\n",
                            "      <td>NaN</td>\n",
                            "      <td>NaN</td>\n",
                            "      <td>NaN</td>\n",
                            "      <td>NaN</td>\n",
                            "      <td>NaN</td>\n",
                            "      <td>NaN</td>\n",
                            "      <td>NaN</td>\n",
                            "      <td>NaN</td>\n",
                            "      <td>0.5782</td>\n",
                            "      <td>NaN</td>\n",
                            "    </tr>\n",
                            "    <tr>\n",
                            "      <th>damage_objectives</th>\n",
                            "      <td>NaN</td>\n",
                            "      <td>1.000000</td>\n",
                            "      <td>NaN</td>\n",
                            "      <td>0.955524</td>\n",
                            "      <td>NaN</td>\n",
                            "      <td>NaN</td>\n",
                            "      <td>NaN</td>\n",
                            "      <td>NaN</td>\n",
                            "      <td>NaN</td>\n",
                            "      <td>NaN</td>\n",
                            "      <td>0.762789</td>\n",
                            "      <td>NaN</td>\n",
                            "      <td>NaN</td>\n",
                            "    </tr>\n",
                            "    <tr>\n",
                            "      <th>damage_building</th>\n",
                            "      <td>NaN</td>\n",
                            "      <td>NaN</td>\n",
                            "      <td>1.000000</td>\n",
                            "      <td>NaN</td>\n",
                            "      <td>NaN</td>\n",
                            "      <td>NaN</td>\n",
                            "      <td>0.506921</td>\n",
                            "      <td>NaN</td>\n",
                            "      <td>NaN</td>\n",
                            "      <td>NaN</td>\n",
                            "      <td>NaN</td>\n",
                            "      <td>NaN</td>\n",
                            "      <td>0.652847</td>\n",
                            "    </tr>\n",
                            "    <tr>\n",
                            "      <th>damage_turrets</th>\n",
                            "      <td>NaN</td>\n",
                            "      <td>0.955524</td>\n",
                            "      <td>NaN</td>\n",
                            "      <td>1.000000</td>\n",
                            "      <td>NaN</td>\n",
                            "      <td>NaN</td>\n",
                            "      <td>NaN</td>\n",
                            "      <td>NaN</td>\n",
                            "      <td>NaN</td>\n",
                            "      <td>NaN</td>\n",
                            "      <td>0.759931</td>\n",
                            "      <td>NaN</td>\n",
                            "      <td>NaN</td>\n",
                            "    </tr>\n",
                            "    <tr>\n",
                            "      <th>deaths</th>\n",
                            "      <td>NaN</td>\n",
                            "      <td>NaN</td>\n",
                            "      <td>NaN</td>\n",
                            "      <td>NaN</td>\n",
                            "      <td>1.0</td>\n",
                            "      <td>NaN</td>\n",
                            "      <td>NaN</td>\n",
                            "      <td>NaN</td>\n",
                            "      <td>NaN</td>\n",
                            "      <td>NaN</td>\n",
                            "      <td>NaN</td>\n",
                            "      <td>NaN</td>\n",
                            "      <td>NaN</td>\n",
                            "    </tr>\n",
                            "    <tr>\n",
                            "      <th>kda</th>\n",
                            "      <td>NaN</td>\n",
                            "      <td>NaN</td>\n",
                            "      <td>NaN</td>\n",
                            "      <td>NaN</td>\n",
                            "      <td>NaN</td>\n",
                            "      <td>1.0</td>\n",
                            "      <td>NaN</td>\n",
                            "      <td>NaN</td>\n",
                            "      <td>NaN</td>\n",
                            "      <td>NaN</td>\n",
                            "      <td>NaN</td>\n",
                            "      <td>NaN</td>\n",
                            "      <td>NaN</td>\n",
                            "    </tr>\n",
                            "    <tr>\n",
                            "      <th>kills</th>\n",
                            "      <td>NaN</td>\n",
                            "      <td>NaN</td>\n",
                            "      <td>0.506921</td>\n",
                            "      <td>NaN</td>\n",
                            "      <td>NaN</td>\n",
                            "      <td>NaN</td>\n",
                            "      <td>1.000000</td>\n",
                            "      <td>0.524960</td>\n",
                            "      <td>NaN</td>\n",
                            "      <td>NaN</td>\n",
                            "      <td>NaN</td>\n",
                            "      <td>NaN</td>\n",
                            "      <td>0.580848</td>\n",
                            "    </tr>\n",
                            "    <tr>\n",
                            "      <th>level</th>\n",
                            "      <td>NaN</td>\n",
                            "      <td>NaN</td>\n",
                            "      <td>NaN</td>\n",
                            "      <td>NaN</td>\n",
                            "      <td>NaN</td>\n",
                            "      <td>NaN</td>\n",
                            "      <td>0.524960</td>\n",
                            "      <td>1.000000</td>\n",
                            "      <td>NaN</td>\n",
                            "      <td>0.609598</td>\n",
                            "      <td>NaN</td>\n",
                            "      <td>NaN</td>\n",
                            "      <td>0.747969</td>\n",
                            "    </tr>\n",
                            "    <tr>\n",
                            "      <th>time_cc</th>\n",
                            "      <td>NaN</td>\n",
                            "      <td>NaN</td>\n",
                            "      <td>NaN</td>\n",
                            "      <td>NaN</td>\n",
                            "      <td>NaN</td>\n",
                            "      <td>NaN</td>\n",
                            "      <td>NaN</td>\n",
                            "      <td>NaN</td>\n",
                            "      <td>1.0</td>\n",
                            "      <td>NaN</td>\n",
                            "      <td>NaN</td>\n",
                            "      <td>NaN</td>\n",
                            "      <td>NaN</td>\n",
                            "    </tr>\n",
                            "    <tr>\n",
                            "      <th>damage_taken</th>\n",
                            "      <td>NaN</td>\n",
                            "      <td>NaN</td>\n",
                            "      <td>NaN</td>\n",
                            "      <td>NaN</td>\n",
                            "      <td>NaN</td>\n",
                            "      <td>NaN</td>\n",
                            "      <td>NaN</td>\n",
                            "      <td>0.609598</td>\n",
                            "      <td>NaN</td>\n",
                            "      <td>1.000000</td>\n",
                            "      <td>NaN</td>\n",
                            "      <td>NaN</td>\n",
                            "      <td>0.540868</td>\n",
                            "    </tr>\n",
                            "    <tr>\n",
                            "      <th>turret_kills</th>\n",
                            "      <td>NaN</td>\n",
                            "      <td>0.762789</td>\n",
                            "      <td>NaN</td>\n",
                            "      <td>0.759931</td>\n",
                            "      <td>NaN</td>\n",
                            "      <td>NaN</td>\n",
                            "      <td>NaN</td>\n",
                            "      <td>NaN</td>\n",
                            "      <td>NaN</td>\n",
                            "      <td>NaN</td>\n",
                            "      <td>1.000000</td>\n",
                            "      <td>NaN</td>\n",
                            "      <td>NaN</td>\n",
                            "    </tr>\n",
                            "    <tr>\n",
                            "      <th>vision_score</th>\n",
                            "      <td>0.5782</td>\n",
                            "      <td>NaN</td>\n",
                            "      <td>NaN</td>\n",
                            "      <td>NaN</td>\n",
                            "      <td>NaN</td>\n",
                            "      <td>NaN</td>\n",
                            "      <td>NaN</td>\n",
                            "      <td>NaN</td>\n",
                            "      <td>NaN</td>\n",
                            "      <td>NaN</td>\n",
                            "      <td>NaN</td>\n",
                            "      <td>1.0000</td>\n",
                            "      <td>NaN</td>\n",
                            "    </tr>\n",
                            "    <tr>\n",
                            "      <th>damage_total</th>\n",
                            "      <td>NaN</td>\n",
                            "      <td>NaN</td>\n",
                            "      <td>0.652847</td>\n",
                            "      <td>NaN</td>\n",
                            "      <td>NaN</td>\n",
                            "      <td>NaN</td>\n",
                            "      <td>0.580848</td>\n",
                            "      <td>0.747969</td>\n",
                            "      <td>NaN</td>\n",
                            "      <td>0.540868</td>\n",
                            "      <td>NaN</td>\n",
                            "      <td>NaN</td>\n",
                            "      <td>1.000000</td>\n",
                            "    </tr>\n",
                            "  </tbody>\n",
                            "</table>\n",
                            "</div>"
                        ],
                        "text/plain": [
                            "                   assists  damage_objectives  damage_building  \\\n",
                            "assists             1.0000                NaN              NaN   \n",
                            "damage_objectives      NaN           1.000000              NaN   \n",
                            "damage_building        NaN                NaN         1.000000   \n",
                            "damage_turrets         NaN           0.955524              NaN   \n",
                            "deaths                 NaN                NaN              NaN   \n",
                            "kda                    NaN                NaN              NaN   \n",
                            "kills                  NaN                NaN         0.506921   \n",
                            "level                  NaN                NaN              NaN   \n",
                            "time_cc                NaN                NaN              NaN   \n",
                            "damage_taken           NaN                NaN              NaN   \n",
                            "turret_kills           NaN           0.762789              NaN   \n",
                            "vision_score        0.5782                NaN              NaN   \n",
                            "damage_total           NaN                NaN         0.652847   \n",
                            "\n",
                            "                   damage_turrets  deaths  kda     kills     level  time_cc  \\\n",
                            "assists                       NaN     NaN  NaN       NaN       NaN      NaN   \n",
                            "damage_objectives        0.955524     NaN  NaN       NaN       NaN      NaN   \n",
                            "damage_building               NaN     NaN  NaN  0.506921       NaN      NaN   \n",
                            "damage_turrets           1.000000     NaN  NaN       NaN       NaN      NaN   \n",
                            "deaths                        NaN     1.0  NaN       NaN       NaN      NaN   \n",
                            "kda                           NaN     NaN  1.0       NaN       NaN      NaN   \n",
                            "kills                         NaN     NaN  NaN  1.000000  0.524960      NaN   \n",
                            "level                         NaN     NaN  NaN  0.524960  1.000000      NaN   \n",
                            "time_cc                       NaN     NaN  NaN       NaN       NaN      1.0   \n",
                            "damage_taken                  NaN     NaN  NaN       NaN  0.609598      NaN   \n",
                            "turret_kills             0.759931     NaN  NaN       NaN       NaN      NaN   \n",
                            "vision_score                  NaN     NaN  NaN       NaN       NaN      NaN   \n",
                            "damage_total                  NaN     NaN  NaN  0.580848  0.747969      NaN   \n",
                            "\n",
                            "                   damage_taken  turret_kills  vision_score  damage_total  \n",
                            "assists                     NaN           NaN        0.5782           NaN  \n",
                            "damage_objectives           NaN      0.762789           NaN           NaN  \n",
                            "damage_building             NaN           NaN           NaN      0.652847  \n",
                            "damage_turrets              NaN      0.759931           NaN           NaN  \n",
                            "deaths                      NaN           NaN           NaN           NaN  \n",
                            "kda                         NaN           NaN           NaN           NaN  \n",
                            "kills                       NaN           NaN           NaN      0.580848  \n",
                            "level                  0.609598           NaN           NaN      0.747969  \n",
                            "time_cc                     NaN           NaN           NaN           NaN  \n",
                            "damage_taken           1.000000           NaN           NaN      0.540868  \n",
                            "turret_kills                NaN      1.000000           NaN           NaN  \n",
                            "vision_score                NaN           NaN        1.0000           NaN  \n",
                            "damage_total           0.540868           NaN           NaN      1.000000  "
                        ]
                    },
                    "execution_count": 151,
                    "metadata": {},
                    "output_type": "execute_result"
                }
            ],
            "source": [
                "check_collinearity_gold_earned = ALL_train.drop('gold_earned', axis=1).corr(method='pearson')\n",
                "check_collinearity_gold_earned[check_collinearity_gold_earned > 0.5]"
            ]
        },
        {
            "attachments": {},
            "cell_type": "markdown",
            "metadata": {},
            "source": [
                "## **DAMAGE_TOTAL**\n",
                "\n",
                "---\n",
                "\n",
                "- Because this kind of data is discrete, it is not ideal to predict with a linear regression model\n",
                "- Another option is to use a Poisson or Negative Binomial Regression for the data"
            ]
        },
        {
            "cell_type": "code",
            "execution_count": null,
            "metadata": {},
            "outputs": [],
            "source": [
                "def dmg_total_outliers(df):\n",
                "    new = df[df['damage_total'] < 500000]\n",
                "    return new"
            ]
        },
        {
            "cell_type": "code",
            "execution_count": null,
            "metadata": {},
            "outputs": [],
            "source": [
                "return_dict = pearson_plot(ALL_train, 'damage_total', dmg_total_outliers, 'damage_total_pearson')\n",
                "pearson_dmg_total = pd.DataFrame.from_dict(return_dict)"
            ]
        },
        {
            "cell_type": "code",
            "execution_count": null,
            "metadata": {},
            "outputs": [
                {
                    "data": {
                        "text/html": [
                            "<div>\n",
                            "<style scoped>\n",
                            "    .dataframe tbody tr th:only-of-type {\n",
                            "        vertical-align: middle;\n",
                            "    }\n",
                            "\n",
                            "    .dataframe tbody tr th {\n",
                            "        vertical-align: top;\n",
                            "    }\n",
                            "\n",
                            "    .dataframe thead th {\n",
                            "        text-align: right;\n",
                            "    }\n",
                            "</style>\n",
                            "<table border=\"1\" class=\"dataframe\">\n",
                            "  <thead>\n",
                            "    <tr style=\"text-align: right;\">\n",
                            "      <th></th>\n",
                            "      <th>Features to Predict kda</th>\n",
                            "      <th>with_outliers</th>\n",
                            "      <th>no_outliers</th>\n",
                            "    </tr>\n",
                            "  </thead>\n",
                            "  <tbody>\n",
                            "    <tr>\n",
                            "      <th>0</th>\n",
                            "      <td>assists</td>\n",
                            "      <td>-0.073845</td>\n",
                            "      <td>-0.075284</td>\n",
                            "    </tr>\n",
                            "    <tr>\n",
                            "      <th>1</th>\n",
                            "      <td>damage_objectives</td>\n",
                            "      <td>0.452031</td>\n",
                            "      <td>0.451152</td>\n",
                            "    </tr>\n",
                            "    <tr>\n",
                            "      <th>2</th>\n",
                            "      <td>damage_building</td>\n",
                            "      <td>0.652847</td>\n",
                            "      <td>0.652224</td>\n",
                            "    </tr>\n",
                            "    <tr>\n",
                            "      <th>3</th>\n",
                            "      <td>damage_turrets</td>\n",
                            "      <td>0.451169</td>\n",
                            "      <td>0.450746</td>\n",
                            "    </tr>\n",
                            "    <tr>\n",
                            "      <th>4</th>\n",
                            "      <td>deaths</td>\n",
                            "      <td>0.053089</td>\n",
                            "      <td>0.051748</td>\n",
                            "    </tr>\n",
                            "    <tr>\n",
                            "      <th>5</th>\n",
                            "      <td>kda</td>\n",
                            "      <td>0.080911</td>\n",
                            "      <td>0.081268</td>\n",
                            "    </tr>\n",
                            "    <tr>\n",
                            "      <th>6</th>\n",
                            "      <td>kills</td>\n",
                            "      <td>0.580848</td>\n",
                            "      <td>0.580847</td>\n",
                            "    </tr>\n",
                            "    <tr>\n",
                            "      <th>7</th>\n",
                            "      <td>level</td>\n",
                            "      <td>0.747969</td>\n",
                            "      <td>0.748607</td>\n",
                            "    </tr>\n",
                            "    <tr>\n",
                            "      <th>8</th>\n",
                            "      <td>time_cc</td>\n",
                            "      <td>-0.089200</td>\n",
                            "      <td>-0.089351</td>\n",
                            "    </tr>\n",
                            "    <tr>\n",
                            "      <th>9</th>\n",
                            "      <td>damage_taken</td>\n",
                            "      <td>0.540868</td>\n",
                            "      <td>0.541645</td>\n",
                            "    </tr>\n",
                            "    <tr>\n",
                            "      <th>10</th>\n",
                            "      <td>turret_kills</td>\n",
                            "      <td>0.468227</td>\n",
                            "      <td>0.467466</td>\n",
                            "    </tr>\n",
                            "    <tr>\n",
                            "      <th>11</th>\n",
                            "      <td>vision_score</td>\n",
                            "      <td>-0.209154</td>\n",
                            "      <td>-0.211332</td>\n",
                            "    </tr>\n",
                            "    <tr>\n",
                            "      <th>12</th>\n",
                            "      <td>gold_earned</td>\n",
                            "      <td>0.851133</td>\n",
                            "      <td>0.850735</td>\n",
                            "    </tr>\n",
                            "  </tbody>\n",
                            "</table>\n",
                            "</div>"
                        ],
                        "text/plain": [
                            "   Features to Predict kda  with_outliers  no_outliers\n",
                            "0                  assists      -0.073845    -0.075284\n",
                            "1        damage_objectives       0.452031     0.451152\n",
                            "2          damage_building       0.652847     0.652224\n",
                            "3           damage_turrets       0.451169     0.450746\n",
                            "4                   deaths       0.053089     0.051748\n",
                            "5                      kda       0.080911     0.081268\n",
                            "6                    kills       0.580848     0.580847\n",
                            "7                    level       0.747969     0.748607\n",
                            "8                  time_cc      -0.089200    -0.089351\n",
                            "9             damage_taken       0.540868     0.541645\n",
                            "10            turret_kills       0.468227     0.467466\n",
                            "11            vision_score      -0.209154    -0.211332\n",
                            "12             gold_earned       0.851133     0.850735"
                        ]
                    },
                    "execution_count": 154,
                    "metadata": {},
                    "output_type": "execute_result"
                }
            ],
            "source": [
                "pearson_dmg_total"
            ]
        },
        {
            "cell_type": "code",
            "execution_count": null,
            "metadata": {},
            "outputs": [
                {
                    "data": {
                        "text/html": [
                            "<div>\n",
                            "<style scoped>\n",
                            "    .dataframe tbody tr th:only-of-type {\n",
                            "        vertical-align: middle;\n",
                            "    }\n",
                            "\n",
                            "    .dataframe tbody tr th {\n",
                            "        vertical-align: top;\n",
                            "    }\n",
                            "\n",
                            "    .dataframe thead th {\n",
                            "        text-align: right;\n",
                            "    }\n",
                            "</style>\n",
                            "<table border=\"1\" class=\"dataframe\">\n",
                            "  <thead>\n",
                            "    <tr style=\"text-align: right;\">\n",
                            "      <th></th>\n",
                            "      <th>assists</th>\n",
                            "      <th>damage_objectives</th>\n",
                            "      <th>damage_building</th>\n",
                            "      <th>damage_turrets</th>\n",
                            "      <th>deaths</th>\n",
                            "      <th>kda</th>\n",
                            "      <th>kills</th>\n",
                            "      <th>level</th>\n",
                            "      <th>time_cc</th>\n",
                            "      <th>damage_taken</th>\n",
                            "      <th>turret_kills</th>\n",
                            "      <th>vision_score</th>\n",
                            "      <th>gold_earned</th>\n",
                            "    </tr>\n",
                            "  </thead>\n",
                            "  <tbody>\n",
                            "    <tr>\n",
                            "      <th>assists</th>\n",
                            "      <td>1.0000</td>\n",
                            "      <td>NaN</td>\n",
                            "      <td>NaN</td>\n",
                            "      <td>NaN</td>\n",
                            "      <td>NaN</td>\n",
                            "      <td>NaN</td>\n",
                            "      <td>NaN</td>\n",
                            "      <td>NaN</td>\n",
                            "      <td>NaN</td>\n",
                            "      <td>NaN</td>\n",
                            "      <td>NaN</td>\n",
                            "      <td>0.5782</td>\n",
                            "      <td>NaN</td>\n",
                            "    </tr>\n",
                            "    <tr>\n",
                            "      <th>damage_objectives</th>\n",
                            "      <td>NaN</td>\n",
                            "      <td>1.000000</td>\n",
                            "      <td>NaN</td>\n",
                            "      <td>0.955524</td>\n",
                            "      <td>NaN</td>\n",
                            "      <td>NaN</td>\n",
                            "      <td>NaN</td>\n",
                            "      <td>NaN</td>\n",
                            "      <td>NaN</td>\n",
                            "      <td>NaN</td>\n",
                            "      <td>0.762789</td>\n",
                            "      <td>NaN</td>\n",
                            "      <td>0.515487</td>\n",
                            "    </tr>\n",
                            "    <tr>\n",
                            "      <th>damage_building</th>\n",
                            "      <td>NaN</td>\n",
                            "      <td>NaN</td>\n",
                            "      <td>1.000000</td>\n",
                            "      <td>NaN</td>\n",
                            "      <td>NaN</td>\n",
                            "      <td>NaN</td>\n",
                            "      <td>0.506921</td>\n",
                            "      <td>NaN</td>\n",
                            "      <td>NaN</td>\n",
                            "      <td>NaN</td>\n",
                            "      <td>NaN</td>\n",
                            "      <td>NaN</td>\n",
                            "      <td>0.574308</td>\n",
                            "    </tr>\n",
                            "    <tr>\n",
                            "      <th>damage_turrets</th>\n",
                            "      <td>NaN</td>\n",
                            "      <td>0.955524</td>\n",
                            "      <td>NaN</td>\n",
                            "      <td>1.000000</td>\n",
                            "      <td>NaN</td>\n",
                            "      <td>NaN</td>\n",
                            "      <td>NaN</td>\n",
                            "      <td>NaN</td>\n",
                            "      <td>NaN</td>\n",
                            "      <td>NaN</td>\n",
                            "      <td>0.759931</td>\n",
                            "      <td>NaN</td>\n",
                            "      <td>0.516349</td>\n",
                            "    </tr>\n",
                            "    <tr>\n",
                            "      <th>deaths</th>\n",
                            "      <td>NaN</td>\n",
                            "      <td>NaN</td>\n",
                            "      <td>NaN</td>\n",
                            "      <td>NaN</td>\n",
                            "      <td>1.0</td>\n",
                            "      <td>NaN</td>\n",
                            "      <td>NaN</td>\n",
                            "      <td>NaN</td>\n",
                            "      <td>NaN</td>\n",
                            "      <td>NaN</td>\n",
                            "      <td>NaN</td>\n",
                            "      <td>NaN</td>\n",
                            "      <td>NaN</td>\n",
                            "    </tr>\n",
                            "    <tr>\n",
                            "      <th>kda</th>\n",
                            "      <td>NaN</td>\n",
                            "      <td>NaN</td>\n",
                            "      <td>NaN</td>\n",
                            "      <td>NaN</td>\n",
                            "      <td>NaN</td>\n",
                            "      <td>1.0</td>\n",
                            "      <td>NaN</td>\n",
                            "      <td>NaN</td>\n",
                            "      <td>NaN</td>\n",
                            "      <td>NaN</td>\n",
                            "      <td>NaN</td>\n",
                            "      <td>NaN</td>\n",
                            "      <td>NaN</td>\n",
                            "    </tr>\n",
                            "    <tr>\n",
                            "      <th>kills</th>\n",
                            "      <td>NaN</td>\n",
                            "      <td>NaN</td>\n",
                            "      <td>0.506921</td>\n",
                            "      <td>NaN</td>\n",
                            "      <td>NaN</td>\n",
                            "      <td>NaN</td>\n",
                            "      <td>1.000000</td>\n",
                            "      <td>0.524960</td>\n",
                            "      <td>NaN</td>\n",
                            "      <td>NaN</td>\n",
                            "      <td>NaN</td>\n",
                            "      <td>NaN</td>\n",
                            "      <td>0.759388</td>\n",
                            "    </tr>\n",
                            "    <tr>\n",
                            "      <th>level</th>\n",
                            "      <td>NaN</td>\n",
                            "      <td>NaN</td>\n",
                            "      <td>NaN</td>\n",
                            "      <td>NaN</td>\n",
                            "      <td>NaN</td>\n",
                            "      <td>NaN</td>\n",
                            "      <td>0.524960</td>\n",
                            "      <td>1.000000</td>\n",
                            "      <td>NaN</td>\n",
                            "      <td>0.609598</td>\n",
                            "      <td>NaN</td>\n",
                            "      <td>NaN</td>\n",
                            "      <td>0.859589</td>\n",
                            "    </tr>\n",
                            "    <tr>\n",
                            "      <th>time_cc</th>\n",
                            "      <td>NaN</td>\n",
                            "      <td>NaN</td>\n",
                            "      <td>NaN</td>\n",
                            "      <td>NaN</td>\n",
                            "      <td>NaN</td>\n",
                            "      <td>NaN</td>\n",
                            "      <td>NaN</td>\n",
                            "      <td>NaN</td>\n",
                            "      <td>1.0</td>\n",
                            "      <td>NaN</td>\n",
                            "      <td>NaN</td>\n",
                            "      <td>NaN</td>\n",
                            "      <td>NaN</td>\n",
                            "    </tr>\n",
                            "    <tr>\n",
                            "      <th>damage_taken</th>\n",
                            "      <td>NaN</td>\n",
                            "      <td>NaN</td>\n",
                            "      <td>NaN</td>\n",
                            "      <td>NaN</td>\n",
                            "      <td>NaN</td>\n",
                            "      <td>NaN</td>\n",
                            "      <td>NaN</td>\n",
                            "      <td>0.609598</td>\n",
                            "      <td>NaN</td>\n",
                            "      <td>1.000000</td>\n",
                            "      <td>NaN</td>\n",
                            "      <td>NaN</td>\n",
                            "      <td>0.578462</td>\n",
                            "    </tr>\n",
                            "    <tr>\n",
                            "      <th>turret_kills</th>\n",
                            "      <td>NaN</td>\n",
                            "      <td>0.762789</td>\n",
                            "      <td>NaN</td>\n",
                            "      <td>0.759931</td>\n",
                            "      <td>NaN</td>\n",
                            "      <td>NaN</td>\n",
                            "      <td>NaN</td>\n",
                            "      <td>NaN</td>\n",
                            "      <td>NaN</td>\n",
                            "      <td>NaN</td>\n",
                            "      <td>1.000000</td>\n",
                            "      <td>NaN</td>\n",
                            "      <td>0.527266</td>\n",
                            "    </tr>\n",
                            "    <tr>\n",
                            "      <th>vision_score</th>\n",
                            "      <td>0.5782</td>\n",
                            "      <td>NaN</td>\n",
                            "      <td>NaN</td>\n",
                            "      <td>NaN</td>\n",
                            "      <td>NaN</td>\n",
                            "      <td>NaN</td>\n",
                            "      <td>NaN</td>\n",
                            "      <td>NaN</td>\n",
                            "      <td>NaN</td>\n",
                            "      <td>NaN</td>\n",
                            "      <td>NaN</td>\n",
                            "      <td>1.0000</td>\n",
                            "      <td>NaN</td>\n",
                            "    </tr>\n",
                            "    <tr>\n",
                            "      <th>gold_earned</th>\n",
                            "      <td>NaN</td>\n",
                            "      <td>0.515487</td>\n",
                            "      <td>0.574308</td>\n",
                            "      <td>0.516349</td>\n",
                            "      <td>NaN</td>\n",
                            "      <td>NaN</td>\n",
                            "      <td>0.759388</td>\n",
                            "      <td>0.859589</td>\n",
                            "      <td>NaN</td>\n",
                            "      <td>0.578462</td>\n",
                            "      <td>0.527266</td>\n",
                            "      <td>NaN</td>\n",
                            "      <td>1.000000</td>\n",
                            "    </tr>\n",
                            "  </tbody>\n",
                            "</table>\n",
                            "</div>"
                        ],
                        "text/plain": [
                            "                   assists  damage_objectives  damage_building  \\\n",
                            "assists             1.0000                NaN              NaN   \n",
                            "damage_objectives      NaN           1.000000              NaN   \n",
                            "damage_building        NaN                NaN         1.000000   \n",
                            "damage_turrets         NaN           0.955524              NaN   \n",
                            "deaths                 NaN                NaN              NaN   \n",
                            "kda                    NaN                NaN              NaN   \n",
                            "kills                  NaN                NaN         0.506921   \n",
                            "level                  NaN                NaN              NaN   \n",
                            "time_cc                NaN                NaN              NaN   \n",
                            "damage_taken           NaN                NaN              NaN   \n",
                            "turret_kills           NaN           0.762789              NaN   \n",
                            "vision_score        0.5782                NaN              NaN   \n",
                            "gold_earned            NaN           0.515487         0.574308   \n",
                            "\n",
                            "                   damage_turrets  deaths  kda     kills     level  time_cc  \\\n",
                            "assists                       NaN     NaN  NaN       NaN       NaN      NaN   \n",
                            "damage_objectives        0.955524     NaN  NaN       NaN       NaN      NaN   \n",
                            "damage_building               NaN     NaN  NaN  0.506921       NaN      NaN   \n",
                            "damage_turrets           1.000000     NaN  NaN       NaN       NaN      NaN   \n",
                            "deaths                        NaN     1.0  NaN       NaN       NaN      NaN   \n",
                            "kda                           NaN     NaN  1.0       NaN       NaN      NaN   \n",
                            "kills                         NaN     NaN  NaN  1.000000  0.524960      NaN   \n",
                            "level                         NaN     NaN  NaN  0.524960  1.000000      NaN   \n",
                            "time_cc                       NaN     NaN  NaN       NaN       NaN      1.0   \n",
                            "damage_taken                  NaN     NaN  NaN       NaN  0.609598      NaN   \n",
                            "turret_kills             0.759931     NaN  NaN       NaN       NaN      NaN   \n",
                            "vision_score                  NaN     NaN  NaN       NaN       NaN      NaN   \n",
                            "gold_earned              0.516349     NaN  NaN  0.759388  0.859589      NaN   \n",
                            "\n",
                            "                   damage_taken  turret_kills  vision_score  gold_earned  \n",
                            "assists                     NaN           NaN        0.5782          NaN  \n",
                            "damage_objectives           NaN      0.762789           NaN     0.515487  \n",
                            "damage_building             NaN           NaN           NaN     0.574308  \n",
                            "damage_turrets              NaN      0.759931           NaN     0.516349  \n",
                            "deaths                      NaN           NaN           NaN          NaN  \n",
                            "kda                         NaN           NaN           NaN          NaN  \n",
                            "kills                       NaN           NaN           NaN     0.759388  \n",
                            "level                  0.609598           NaN           NaN     0.859589  \n",
                            "time_cc                     NaN           NaN           NaN          NaN  \n",
                            "damage_taken           1.000000           NaN           NaN     0.578462  \n",
                            "turret_kills                NaN      1.000000           NaN     0.527266  \n",
                            "vision_score                NaN           NaN        1.0000          NaN  \n",
                            "gold_earned            0.578462      0.527266           NaN     1.000000  "
                        ]
                    },
                    "execution_count": 155,
                    "metadata": {},
                    "output_type": "execute_result"
                }
            ],
            "source": [
                "check_collinearity_dmg_total = ALL_train.drop('damage_total', axis=1).corr(method='pearson')\n",
                "check_collinearity_dmg_total[check_collinearity_dmg_total > 0.5]"
            ]
        },
        {
            "attachments": {},
            "cell_type": "markdown",
            "metadata": {},
            "source": [
                "## **SOME NOTES**\n",
                "- In all three of the target variables, there was no difference in excluding outliers from the dataset\n",
                "- These outliers were defined to be target variable values that were a relatively far range from the rest of the values\n",
                "- Key note should be to consider the correlation matrix formed by all 3 target variables. It is clear that many present multicollienarity"
            ]
        },
        {
            "attachments": {},
            "cell_type": "markdown",
            "metadata": {},
            "source": [
                "# **STEP 4**\n",
                "\n",
                "---\n",
                "\n",
                "\n",
                "- Now that we have some features that are selected, we can try make a model based on either all the features or some of the selected features\n",
                "- The following models were used to assess the fit of the data:\n",
                "    - Linear Regression Model\n",
                "    - Polynomial Regression Model (Degree 2)\n",
                "    - Polynomial Regression Model (Degree 3)\n",
                "- The following methods were then used to assess the fit of the data:\n",
                "    - Regression with All features\n",
                "    - Regression with Filtered Features Based on Pearson Coefficient Value\n",
                "    - K-Folds Cross Validation (k=10) for TRAINING Set\n",
                "- Justification for Methods Are Found in the Paper"
            ]
        },
        {
            "attachments": {},
            "cell_type": "markdown",
            "metadata": {},
            "source": [
                "## **HELPER FUNCTIONS TO MAKE REGRESSION MODELS**\n",
                "- All of these are to make the different regression models\n",
                "\n",
                "---\n",
                "\n"
            ]
        },
        {
            "cell_type": "code",
            "execution_count": null,
            "metadata": {},
            "outputs": [],
            "source": [
                "# Helper function to determine k-folds cross validation RMSE \n",
                "def kfolds_polyreg(df, target, k, degree):\n",
                "    cv = KFold(n_splits=k)\n",
                "    avg = 0\n",
                "    for train_index, test_index in cv.split(df):\n",
                "        # Impute train with median and impute test\n",
                "        # with model\n",
                "        train = df.iloc[train_index,:]\n",
                "        test = df.iloc[test_index, :]\n",
                "\n",
                "        # Fill both train and test with the median values of train\n",
                "        train.fillna(train.median(), inplace=True)\n",
                "        for col in test.columns:\n",
                "            test[col].fillna(train[col].median(), inplace=True)\n",
                "\n",
                "        # Split data into training and test sets    \n",
                "        X_train, y_train = train.drop(target, axis=1), train[target]\n",
                "        X_test, y_test = test.drop(target, axis=1), test[target]\n",
                "\n",
                "        # Convert X_train and X_test so that it can be used for polynomial regression\n",
                "        poly = PolynomialFeatures(degree=degree, include_bias=False)\n",
                "        poly_train = poly.fit_transform(X_train)\n",
                "        poly_test = poly.fit_transform(X_test)\n",
                "\n",
                "        model = LinearRegression()\n",
                "        model.fit(poly_train, y_train)\n",
                "        y_pred = model.predict(poly_test)\n",
                "\n",
                "        r2_val = r2_score(y_test, y_pred)\n",
                "        avg = avg + r2_val\n",
                "    \n",
                "    return avg/k"
            ]
        },
        {
            "cell_type": "code",
            "execution_count": null,
            "metadata": {},
            "outputs": [],
            "source": [
                "# Helper function to determine k-folds cross validation RMSE \n",
                "def kfolds_linreg(df, target, k):\n",
                "    cv = KFold(n_splits=k)\n",
                "    avg = 0\n",
                "    for train_index, test_index in cv.split(df):\n",
                "        # Impute train with median and impute test\n",
                "        # with model\n",
                "        train = df.iloc[train_index,:]\n",
                "        test = df.iloc[test_index, :]\n",
                "\n",
                "        # Fill both train and test with the median values of train\n",
                "        train.fillna(train.median(), inplace=True)\n",
                "        for col in test.columns:\n",
                "            test[col].fillna(train[col].median(), inplace=True)\n",
                "\n",
                "        # Split data into training and test sets    \n",
                "        X_train, y_train = train.drop(target, axis=1), train[target]\n",
                "        X_test, y_test = test.drop(target, axis=1), test[target]\n",
                "\n",
                "        model = LinearRegression()\n",
                "        model.fit(X_train, y_train)\n",
                "        y_pred = model.predict(X_test)\n",
                "\n",
                "        r2_val = r2_score(y_test, y_pred)\n",
                "        avg = avg + r2_val\n",
                "    \n",
                "    return avg/k"
            ]
        },
        {
            "cell_type": "code",
            "execution_count": null,
            "metadata": {},
            "outputs": [],
            "source": [
                "# Create the final model using the train/test split\n",
                "def create_linreg(train, test, target, name):\n",
                "    # First impute training median into test set\n",
                "    for col in test.columns:\n",
                "        test[col].fillna(train[col].median(), inplace=True)\n",
                "    \n",
                "    # Factor out the variables first in train set\n",
                "    X_train = train.drop(target, axis=1)\n",
                "    y_train = train[target]\n",
                "\n",
                "    X_test = test.drop(target, axis=1)\n",
                "    y_test = test[target]\n",
                "\n",
                "    # Now make the model of the regression line\n",
                "    model = LinearRegression()\n",
                "    model.fit(X_train, y_train)\n",
                "    y_pred = model.predict(X_test)\n",
                "\n",
                "    # Get the residuals and plot the data\n",
                "    residuals = np.subtract(y_test, y_pred)\n",
                "\n",
                "    r2_val = r2_score(y_test, y_pred)\n",
                "\n",
                "    # y_pred and residuals plot\n",
                "    fig, ax = plt.subplots(figsize=(20,10))\n",
                "    plt.suptitle(f'{target} LinReg Predicted Values and Residuals (R^2 = {r2_val:.5f})', fontsize=30, fontweight='bold')\n",
                "\n",
                "\n",
                "    ax.scatter(y_pred, residuals)\n",
                "    ax.set_xlabel(f'{target} Predicted Values', fontsize=20, fontdict=dict(weight='bold'))\n",
                "    ax.set_ylabel(f'{target} Residuals', fontsize=20, fontdict=dict(weight='bold'))\n",
                "    ax.axhline(y = 0, color = 'b')\n",
                "\n",
                "    plt.savefig(f'{path}linreg/{name}_linreg_residual')\n",
                "    plt.close()\n",
                "\n",
                "    # Make another plot for y_pred and y_test plot\n",
                "    fig, ax = plt.subplots(figsize=(20,10))\n",
                "    plt.suptitle(f'{target} LinReg Predicted Values and Test Values (R^2 = {r2_val:.5f})', fontsize=30, fontweight='bold')\n",
                "\n",
                "\n",
                "    ax.scatter(y_pred, y_test)\n",
                "    ax.set_xlabel(f'{target} Predicted Values', fontsize=20, fontdict=dict(weight='bold'))\n",
                "    ax.set_ylabel(f'{target} Test Values', fontsize=20, fontdict=dict(weight='bold'))\n",
                "\n",
                "    plt.savefig(f'{path}linreg/{name}_linreg_predvstest')\n",
                "    plt.close()\n",
                "\n",
                "    return r2_val\n"
            ]
        },
        {
            "cell_type": "code",
            "execution_count": null,
            "metadata": {},
            "outputs": [],
            "source": [
                "#  Helper function to get polynomial regression model\n",
                "def create_polyreg(train, test, target, name, degree):\n",
                "    # First impute training median into test set\n",
                "    for col in test.columns:\n",
                "        test[col].fillna(train[col].median(), inplace=True)\n",
                "    \n",
                "    # Split into features and target and train and test\n",
                "    X_train, y_train = train.drop(target, axis=1), train[target]\n",
                "    X_test, y_test = test.drop(target, axis=1), test[target]\n",
                "\n",
                "    # Convert X_train and X_test so that it can be used for polynomial regression\n",
                "    poly = PolynomialFeatures(degree=degree, include_bias=False)\n",
                "    poly_train = poly.fit_transform(X_train)\n",
                "    poly_test = poly.fit_transform(X_test)\n",
                "\n",
                "    # Fit the model into the training data\n",
                "    model = LinearRegression()\n",
                "    model.fit(poly_train, y_train)\n",
                "    y_pred = model.predict(poly_test)\n",
                "\n",
                "    # Get residuals and r2_val r2_score\n",
                "    residuals = np.subtract(y_test, y_pred)\n",
                "    r2_val = r2_score(y_test, y_pred)\n",
                "\n",
                "    # y_pred and residuals plot\n",
                "    fig, ax = plt.subplots(figsize=(20,10))\n",
                "    plt.suptitle(f'{target} Poly{degree} Predicted Values and Residuals (R^2 = {r2_val:.5f})', fontsize=30, fontweight='bold')\n",
                "\n",
                "\n",
                "    ax.scatter(y_pred, residuals)\n",
                "    ax.set_xlabel(f'{target} Predicted Values', fontsize=20, fontdict=dict(weight='bold'))\n",
                "    ax.set_ylabel(f'{target} Residuals', fontsize=20, fontdict=dict(weight='bold'))\n",
                "    ax.axhline(y = 0, color = 'b')\n",
                "\n",
                "    plt.savefig(f'{path}polyreg_{degree}/{name}_residual')\n",
                "    plt.close()\n",
                "\n",
                "    # Make another plot for y_pred and y_test plot\n",
                "    fig, ax = plt.subplots(figsize=(20,10))\n",
                "    plt.suptitle(f'{target} Poly{degree} Predicted Values and Test Values (R^2 = {r2_val:.5f})', fontsize=30, fontweight='bold')\n",
                "\n",
                "\n",
                "    ax.scatter(y_pred, y_test)\n",
                "    ax.set_xlabel(f'{target} Predicted Values', fontsize=20, fontdict=dict(weight='bold'))\n",
                "    ax.set_ylabel(f'{target} Test Values', fontsize=20, fontdict=dict(weight='bold'))\n",
                "\n",
                "    plt.savefig(f'{path}polyreg_{degree}/{name}_predvstest')\n",
                "    plt.close()\n",
                "\n",
                "    return r2_val"
            ]
        },
        {
            "attachments": {},
            "cell_type": "markdown",
            "metadata": {},
            "source": [
                "\n",
                "\n",
                "---\n",
                "\n"
            ]
        },
        {
            "attachments": {},
            "cell_type": "markdown",
            "metadata": {},
            "source": [
                "\n",
                "\n",
                "\n",
                "## **DICTIONARY TO TURN INTO CSV**\n",
                "- This will be the summary statistics of the R^2 value of the different target values with the data\n",
                "- Idea is to determine which target is most predictive of performance among the three target variables\n",
                "- Whatever is the most predictive is the most indicative of performance\n",
                "\n",
                "\n",
                "---\n",
                "\n"
            ]
        },
        {
            "cell_type": "code",
            "execution_count": null,
            "metadata": {},
            "outputs": [],
            "source": [
                "r2_dict = {\n",
                "    'Targets (Uses R^2)' : ['kda', 'gold_earned', 'damage_total'], \n",
                "    'LinearRegression': [], \n",
                "    'LinearRegressionFiltered': [], \n",
                "    'LinearRegressionKFolds': [],\n",
                "    'PolynomialReg2' : [],\n",
                "    'PolyReg2Filtered': [],\n",
                "    'PolynomialReg2KFolds': [],\n",
                "    'PolynomialReg3': [],\n",
                "    'PolyReg3Filtered': [],\n",
                "    'PolynomialReg3KFolds': [],\n",
                "}"
            ]
        },
        {
            "attachments": {},
            "cell_type": "markdown",
            "metadata": {},
            "source": [
                "\n",
                "\n",
                "---\n",
                "\n"
            ]
        },
        {
            "attachments": {},
            "cell_type": "markdown",
            "metadata": {},
            "source": [
                "# **KDA**\n",
                "---\n",
                "\n"
            ]
        },
        {
            "attachments": {},
            "cell_type": "markdown",
            "metadata": {},
            "source": [
                "## **FILTERED DATASET**\n"
            ]
        },
        {
            "cell_type": "code",
            "execution_count": null,
            "metadata": {},
            "outputs": [
                {
                    "data": {
                        "text/html": [
                            "<div>\n",
                            "<style scoped>\n",
                            "    .dataframe tbody tr th:only-of-type {\n",
                            "        vertical-align: middle;\n",
                            "    }\n",
                            "\n",
                            "    .dataframe tbody tr th {\n",
                            "        vertical-align: top;\n",
                            "    }\n",
                            "\n",
                            "    .dataframe thead th {\n",
                            "        text-align: right;\n",
                            "    }\n",
                            "</style>\n",
                            "<table border=\"1\" class=\"dataframe\">\n",
                            "  <thead>\n",
                            "    <tr style=\"text-align: right;\">\n",
                            "      <th></th>\n",
                            "      <th>Features to Predict kda</th>\n",
                            "      <th>with_outliers</th>\n",
                            "      <th>no_outliers</th>\n",
                            "    </tr>\n",
                            "  </thead>\n",
                            "  <tbody>\n",
                            "    <tr>\n",
                            "      <th>7</th>\n",
                            "      <td>time_cc</td>\n",
                            "      <td>0.054426</td>\n",
                            "      <td>0.052215</td>\n",
                            "    </tr>\n",
                            "    <tr>\n",
                            "      <th>10</th>\n",
                            "      <td>vision_score</td>\n",
                            "      <td>0.082812</td>\n",
                            "      <td>0.081077</td>\n",
                            "    </tr>\n",
                            "    <tr>\n",
                            "      <th>11</th>\n",
                            "      <td>damage_total</td>\n",
                            "      <td>0.080911</td>\n",
                            "      <td>0.081208</td>\n",
                            "    </tr>\n",
                            "  </tbody>\n",
                            "</table>\n",
                            "</div>"
                        ],
                        "text/plain": [
                            "   Features to Predict kda  with_outliers  no_outliers\n",
                            "7                  time_cc       0.054426     0.052215\n",
                            "10            vision_score       0.082812     0.081077\n",
                            "11            damage_total       0.080911     0.081208"
                        ]
                    },
                    "execution_count": 161,
                    "metadata": {},
                    "output_type": "execute_result"
                }
            ],
            "source": [
                "pearson_kda[abs(pearson_kda['with_outliers']) < 0.1]"
            ]
        },
        {
            "cell_type": "code",
            "execution_count": null,
            "metadata": {},
            "outputs": [],
            "source": [
                "# Check pearson_kda again to find these values\n",
                "filter_out = list(pearson_kda[abs(pearson_kda['with_outliers']) < 0.1]['Features to Predict kda'])\n",
                "ALL_train_filtered = ALL_train.drop(filter_out, axis=1)\n",
                "ALL_test_filtered = ALL_test.drop(filter_out, axis=1)"
            ]
        },
        {
            "attachments": {},
            "cell_type": "markdown",
            "metadata": {},
            "source": [
                "\n",
                "\n",
                "---\n",
                "\n"
            ]
        },
        {
            "attachments": {},
            "cell_type": "markdown",
            "metadata": {},
            "source": [
                "## **LINEAR REGRESSION MODEL WITH ALL FEATURES**"
            ]
        },
        {
            "cell_type": "code",
            "execution_count": null,
            "metadata": {},
            "outputs": [
                {
                    "name": "stdout",
                    "output_type": "stream",
                    "text": [
                        "Linear Regression R^2 with All Features = 0.5493224948612544\n"
                    ]
                }
            ],
            "source": [
                "linreg_r2 = create_linreg(ALL_train, ALL_test, 'kda', 'kda_all')\n",
                "print(f'Linear Regression R^2 with All Features = {linreg_r2}')\n",
                "r2_dict[\"LinearRegression\"].append(linreg_r2)"
            ]
        },
        {
            "attachments": {},
            "cell_type": "markdown",
            "metadata": {},
            "source": [
                "\n",
                "\n",
                "---\n",
                "\n"
            ]
        },
        {
            "attachments": {},
            "cell_type": "markdown",
            "metadata": {},
            "source": [
                "## **LINEAR REGRESSION MODEL WITH REMOVED FEATURES**"
            ]
        },
        {
            "cell_type": "code",
            "execution_count": null,
            "metadata": {},
            "outputs": [
                {
                    "name": "stdout",
                    "output_type": "stream",
                    "text": [
                        "Linear Regression R^2 with Filtered Features = 0.5494418463874216\n"
                    ]
                }
            ],
            "source": [
                "linreg_r2_filtered = create_linreg(ALL_train_filtered, ALL_test_filtered, 'kda', 'kda_filtered')\n",
                "print(f'Linear Regression R^2 with Filtered Features = {linreg_r2_filtered}')\n",
                "r2_dict[\"LinearRegressionFiltered\"].append(linreg_r2_filtered)"
            ]
        },
        {
            "attachments": {},
            "cell_type": "markdown",
            "metadata": {},
            "source": [
                "\n",
                "\n",
                "---\n",
                "\n"
            ]
        },
        {
            "attachments": {},
            "cell_type": "markdown",
            "metadata": {},
            "source": [
                "## **LINEAR REGRESSION EVALUATION USING K_FOLDS**\n"
            ]
        },
        {
            "cell_type": "code",
            "execution_count": null,
            "metadata": {},
            "outputs": [
                {
                    "name": "stdout",
                    "output_type": "stream",
                    "text": [
                        "Linear Regression R^2 with kfolds with k=10: 0.5466780761745211\n"
                    ]
                }
            ],
            "source": [
                "# This is for the k-folds cross validation of the LinearRegression model\n",
                "linreg_kfolds_r2 = kfolds_linreg(ALL_train_empty, 'kda', 10)\n",
                "print(f'Linear Regression R^2 with kfolds with k=10: {linreg_kfolds_r2}')\n",
                "r2_dict['LinearRegressionKFolds'].append(linreg_kfolds_r2)"
            ]
        },
        {
            "attachments": {},
            "cell_type": "markdown",
            "metadata": {},
            "source": [
                "\n",
                "\n",
                "---\n",
                "\n"
            ]
        },
        {
            "attachments": {},
            "cell_type": "markdown",
            "metadata": {},
            "source": [
                "## **POLYNOMIAL REGRESSION MODEL WITH ALL FEATURES**"
            ]
        },
        {
            "cell_type": "code",
            "execution_count": null,
            "metadata": {},
            "outputs": [
                {
                    "name": "stdout",
                    "output_type": "stream",
                    "text": [
                        "Polynomial Regression (Degree = 2) R^2 with All Features = 0.7645116823793795\n"
                    ]
                }
            ],
            "source": [
                "poly2_r2 = create_polyreg(ALL_train, ALL_test, 'kda', 'kda_all', 2)\n",
                "print(f'Polynomial Regression (Degree = 2) R^2 with All Features = {poly2_r2}')\n",
                "r2_dict['PolynomialReg2'].append(poly2_r2)"
            ]
        },
        {
            "cell_type": "code",
            "execution_count": null,
            "metadata": {},
            "outputs": [
                {
                    "name": "stdout",
                    "output_type": "stream",
                    "text": [
                        "Polynomial Regression (Degree = 3) R^2 with All Features = -0.8322910072365077\n"
                    ]
                }
            ],
            "source": [
                "poly3_r2 = create_polyreg(ALL_train, ALL_test, 'kda', 'kda_all', 3)\n",
                "print(f'Polynomial Regression (Degree = 3) R^2 with All Features = {poly3_r2}')\n",
                "r2_dict['PolynomialReg3'].append(poly3_r2)"
            ]
        },
        {
            "attachments": {},
            "cell_type": "markdown",
            "metadata": {},
            "source": [
                "\n",
                "\n",
                "---\n",
                "\n"
            ]
        },
        {
            "attachments": {},
            "cell_type": "markdown",
            "metadata": {},
            "source": [
                "## **POLYNOMIAL REGRESSION MODEL WITH FILTERED FEATURES**"
            ]
        },
        {
            "cell_type": "code",
            "execution_count": null,
            "metadata": {},
            "outputs": [
                {
                    "name": "stdout",
                    "output_type": "stream",
                    "text": [
                        "Polynomial Regress (Degree=2) R^2 with Filtered Features = 0.7643110169555688\n"
                    ]
                }
            ],
            "source": [
                "poly2_r2_filtered = create_polyreg(ALL_train_filtered, ALL_test_filtered, 'kda', 'kda_filtered', 2)\n",
                "print(f'Polynomial Regress (Degree=2) R^2 with Filtered Features = {poly2_r2_filtered}')\n",
                "r2_dict['PolyReg2Filtered'].append(poly2_r2_filtered)"
            ]
        },
        {
            "cell_type": "code",
            "execution_count": null,
            "metadata": {},
            "outputs": [
                {
                    "name": "stdout",
                    "output_type": "stream",
                    "text": [
                        "Polynomial Regress (Degree=2) R^2 with Filtered Features = 0.8297828813205609\n"
                    ]
                }
            ],
            "source": [
                "poly3_r2_filtered = create_polyreg(ALL_train_filtered, ALL_test_filtered, 'kda', 'kda_filtered', 3)\n",
                "print(f'Polynomial Regress (Degree=2) R^2 with Filtered Features = {poly3_r2_filtered}')\n",
                "r2_dict['PolyReg3Filtered'].append(poly2_r2_filtered)"
            ]
        },
        {
            "attachments": {},
            "cell_type": "markdown",
            "metadata": {},
            "source": [
                "\n",
                "\n",
                "---\n",
                "\n"
            ]
        },
        {
            "attachments": {},
            "cell_type": "markdown",
            "metadata": {},
            "source": [
                "## **POLYNOMIAL REGRESSION WITH KFOLDS CROSS VALIDATION**"
            ]
        },
        {
            "cell_type": "code",
            "execution_count": null,
            "metadata": {},
            "outputs": [
                {
                    "name": "stdout",
                    "output_type": "stream",
                    "text": [
                        "Linear Regression R^2 with kfolds with k=10: 0.7528806222048553\n"
                    ]
                }
            ],
            "source": [
                "# This is for the k-folds cross validation of the LinearRegression model\n",
                "poly2_kfolds_r2 = kfolds_polyreg(ALL_train_empty, 'kda', 10, 2)\n",
                "print(f'Linear Regression R^2 with kfolds with k=10: {poly2_kfolds_r2}')\n",
                "r2_dict['PolynomialReg2KFolds'].append(poly2_kfolds_r2)"
            ]
        },
        {
            "cell_type": "code",
            "execution_count": null,
            "metadata": {},
            "outputs": [
                {
                    "name": "stdout",
                    "output_type": "stream",
                    "text": [
                        "Linear Regression R^2 with kfolds with k=10: -2.346471469483781\n"
                    ]
                }
            ],
            "source": [
                "poly3_kfolds_r2 = kfolds_polyreg(ALL_train_empty, 'kda', 10, 3)\n",
                "print(f'Linear Regression R^2 with kfolds with k=10: {poly3_kfolds_r2}')\n",
                "r2_dict['PolynomialReg3KFolds'].append(poly3_kfolds_r2)"
            ]
        },
        {
            "attachments": {},
            "cell_type": "markdown",
            "metadata": {},
            "source": [
                "\n",
                "\n",
                "---\n",
                "\n"
            ]
        },
        {
            "attachments": {},
            "cell_type": "markdown",
            "metadata": {},
            "source": [
                "# **GOLD_EARNED**\n"
            ]
        },
        {
            "attachments": {},
            "cell_type": "markdown",
            "metadata": {},
            "source": [
                "\n",
                "\n",
                "---\n",
                "\n"
            ]
        },
        {
            "attachments": {},
            "cell_type": "markdown",
            "metadata": {},
            "source": [
                "## **FILTERED DATASET**"
            ]
        },
        {
            "cell_type": "code",
            "execution_count": null,
            "metadata": {},
            "outputs": [
                {
                    "data": {
                        "text/html": [
                            "<div>\n",
                            "<style scoped>\n",
                            "    .dataframe tbody tr th:only-of-type {\n",
                            "        vertical-align: middle;\n",
                            "    }\n",
                            "\n",
                            "    .dataframe tbody tr th {\n",
                            "        vertical-align: top;\n",
                            "    }\n",
                            "\n",
                            "    .dataframe thead th {\n",
                            "        text-align: right;\n",
                            "    }\n",
                            "</style>\n",
                            "<table border=\"1\" class=\"dataframe\">\n",
                            "  <thead>\n",
                            "    <tr style=\"text-align: right;\">\n",
                            "      <th></th>\n",
                            "      <th>Features to Predict kda</th>\n",
                            "      <th>with_outliers</th>\n",
                            "      <th>no_outliers</th>\n",
                            "    </tr>\n",
                            "  </thead>\n",
                            "  <tbody>\n",
                            "    <tr>\n",
                            "      <th>8</th>\n",
                            "      <td>time_cc</td>\n",
                            "      <td>0.063318</td>\n",
                            "      <td>0.063614</td>\n",
                            "    </tr>\n",
                            "    <tr>\n",
                            "      <th>11</th>\n",
                            "      <td>vision_score</td>\n",
                            "      <td>0.065866</td>\n",
                            "      <td>0.064291</td>\n",
                            "    </tr>\n",
                            "  </tbody>\n",
                            "</table>\n",
                            "</div>"
                        ],
                        "text/plain": [
                            "   Features to Predict kda  with_outliers  no_outliers\n",
                            "8                  time_cc       0.063318     0.063614\n",
                            "11            vision_score       0.065866     0.064291"
                        ]
                    },
                    "execution_count": 172,
                    "metadata": {},
                    "output_type": "execute_result"
                }
            ],
            "source": [
                "pearson_gold[abs(pearson_gold['with_outliers']) < 0.1]"
            ]
        },
        {
            "cell_type": "code",
            "execution_count": null,
            "metadata": {},
            "outputs": [],
            "source": [
                "# Check pearson_gold again to find these values\n",
                "filter_out = list(pearson_gold[abs(pearson_gold['with_outliers']) < 0.1]['Features to Predict kda'])\n",
                "ALL_train_filtered = ALL_train.drop(filter_out, axis=1)\n",
                "ALL_test_filtered = ALL_test.drop(filter_out, axis=1)"
            ]
        },
        {
            "attachments": {},
            "cell_type": "markdown",
            "metadata": {},
            "source": [
                "\n",
                "\n",
                "---\n",
                "\n"
            ]
        },
        {
            "attachments": {},
            "cell_type": "markdown",
            "metadata": {},
            "source": [
                "## **LINEAR REGRESSION MODEL WITH ALL FEATURES**"
            ]
        },
        {
            "cell_type": "code",
            "execution_count": null,
            "metadata": {},
            "outputs": [
                {
                    "name": "stdout",
                    "output_type": "stream",
                    "text": [
                        "Linear Regression R^2 with All Features = 0.9425741358923053\n"
                    ]
                }
            ],
            "source": [
                "linreg_r2 = create_linreg(ALL_train, ALL_test, 'gold_earned', 'gold_earned_all')\n",
                "print(f'Linear Regression R^2 with All Features = {linreg_r2}')\n",
                "r2_dict[\"LinearRegression\"].append(linreg_r2)"
            ]
        },
        {
            "attachments": {},
            "cell_type": "markdown",
            "metadata": {},
            "source": [
                "\n",
                "\n",
                "---\n",
                "\n"
            ]
        },
        {
            "attachments": {},
            "cell_type": "markdown",
            "metadata": {},
            "source": [
                "## **LINEAR REGRESSION WITH FILTERED FEATURES**"
            ]
        },
        {
            "cell_type": "code",
            "execution_count": null,
            "metadata": {},
            "outputs": [
                {
                    "name": "stdout",
                    "output_type": "stream",
                    "text": [
                        "Linear Regression R^2 with Filtered Features = 0.9353913233904744\n"
                    ]
                }
            ],
            "source": [
                "linreg_r2_filtered = create_linreg(ALL_train_filtered, ALL_test_filtered, 'gold_earned', 'gold_earned_filtered')\n",
                "print(f'Linear Regression R^2 with Filtered Features = {linreg_r2_filtered}')\n",
                "r2_dict[\"LinearRegressionFiltered\"].append(linreg_r2_filtered)"
            ]
        },
        {
            "attachments": {},
            "cell_type": "markdown",
            "metadata": {},
            "source": [
                "\n",
                "\n",
                "---\n",
                "\n"
            ]
        },
        {
            "attachments": {},
            "cell_type": "markdown",
            "metadata": {},
            "source": [
                "## **LINEAR REGRESSION EVALUATION USING K_FOLDS**"
            ]
        },
        {
            "cell_type": "code",
            "execution_count": null,
            "metadata": {},
            "outputs": [
                {
                    "name": "stdout",
                    "output_type": "stream",
                    "text": [
                        "Linear Regression R^2 with kfolds with k=10: 0.9431164104172621\n"
                    ]
                }
            ],
            "source": [
                "# This is for the k-folds cross validation of the LinearRegression model\n",
                "linreg_kfolds_r2 = kfolds_linreg(ALL_train_empty, 'gold_earned', 10)\n",
                "print(f'Linear Regression R^2 with kfolds with k=10: {linreg_kfolds_r2}')\n",
                "r2_dict['LinearRegressionKFolds'].append(linreg_kfolds_r2)"
            ]
        },
        {
            "attachments": {},
            "cell_type": "markdown",
            "metadata": {},
            "source": [
                "\n",
                "\n",
                "---\n",
                "\n"
            ]
        },
        {
            "attachments": {},
            "cell_type": "markdown",
            "metadata": {},
            "source": [
                "## **POLYNOMIAL REGRESSION MODEL WITH ALL FEATURES**"
            ]
        },
        {
            "cell_type": "code",
            "execution_count": null,
            "metadata": {},
            "outputs": [
                {
                    "name": "stdout",
                    "output_type": "stream",
                    "text": [
                        "Polynomial Regression (Degree = 2) R^2 with All Features = 0.9471196922921751\n"
                    ]
                }
            ],
            "source": [
                "poly2_r2 = create_polyreg(ALL_train, ALL_test, 'gold_earned', 'gold_earned_all', 2)\n",
                "print(f'Polynomial Regression (Degree = 2) R^2 with All Features = {poly2_r2}')\n",
                "r2_dict['PolynomialReg2'].append(poly2_r2)"
            ]
        },
        {
            "cell_type": "code",
            "execution_count": null,
            "metadata": {},
            "outputs": [
                {
                    "name": "stdout",
                    "output_type": "stream",
                    "text": [
                        "Polynomial Regression (Degree = 2) R^2 with All Features = 0.8740161568620762\n"
                    ]
                }
            ],
            "source": [
                "poly3_r2 = create_polyreg(ALL_train, ALL_test, 'gold_earned', 'gold_earned_all', 3)\n",
                "print(f'Polynomial Regression (Degree = 2) R^2 with All Features = {poly3_r2}')\n",
                "r2_dict['PolynomialReg3'].append(poly3_r2)"
            ]
        },
        {
            "attachments": {},
            "cell_type": "markdown",
            "metadata": {},
            "source": [
                "\n",
                "\n",
                "---\n",
                "\n"
            ]
        },
        {
            "attachments": {},
            "cell_type": "markdown",
            "metadata": {},
            "source": [
                "## **POLYNOMIAL REGRESSION MODEL WITH FILTERED FEATURES**"
            ]
        },
        {
            "cell_type": "code",
            "execution_count": null,
            "metadata": {},
            "outputs": [
                {
                    "name": "stdout",
                    "output_type": "stream",
                    "text": [
                        "Polynomial Regress (Degree=2) R^2 with Filtered Features = 0.942950539171351\n"
                    ]
                }
            ],
            "source": [
                "poly2_r2_filtered = create_polyreg(ALL_train_filtered, ALL_test_filtered, 'gold_earned', 'gold_earned_filtered', 2)\n",
                "print(f'Polynomial Regress (Degree=2) R^2 with Filtered Features = {poly2_r2_filtered}')\n",
                "r2_dict['PolyReg2Filtered'].append(poly2_r2_filtered)"
            ]
        },
        {
            "cell_type": "code",
            "execution_count": null,
            "metadata": {},
            "outputs": [
                {
                    "name": "stdout",
                    "output_type": "stream",
                    "text": [
                        "Polynomial Regress (Degree=2) R^2 with Filtered Features = 0.877383868225546\n"
                    ]
                }
            ],
            "source": [
                "poly3_r2_filtered = create_polyreg(ALL_train_filtered, ALL_test_filtered, 'gold_earned', 'gold_earned_filtered', 3)\n",
                "print(f'Polynomial Regress (Degree=2) R^2 with Filtered Features = {poly3_r2_filtered}')\n",
                "r2_dict['PolyReg3Filtered'].append(poly3_r2_filtered)"
            ]
        },
        {
            "attachments": {},
            "cell_type": "markdown",
            "metadata": {},
            "source": [
                "\n",
                "\n",
                "---\n",
                "\n"
            ]
        },
        {
            "attachments": {},
            "cell_type": "markdown",
            "metadata": {},
            "source": [
                "## **POLYNOMIAL REGRESSION WITH KFOLDS CROSS VALIDATION**"
            ]
        },
        {
            "cell_type": "code",
            "execution_count": null,
            "metadata": {},
            "outputs": [
                {
                    "name": "stdout",
                    "output_type": "stream",
                    "text": [
                        "Linear Regression R^2 with kfolds with k=10: 0.9499155111852445\n"
                    ]
                }
            ],
            "source": [
                "# This is for the k-folds cross validation of the LinearRegression model\n",
                "poly2_kfolds_r2 = kfolds_polyreg(ALL_train_empty, 'gold_earned', 10, 2)\n",
                "print(f'Linear Regression R^2 with kfolds with k=10: {poly2_kfolds_r2}')\n",
                "r2_dict['PolynomialReg2KFolds'].append(poly2_kfolds_r2)"
            ]
        },
        {
            "cell_type": "code",
            "execution_count": null,
            "metadata": {},
            "outputs": [
                {
                    "name": "stdout",
                    "output_type": "stream",
                    "text": [
                        "Linear Regression R^2 with kfolds with k=10: 0.7686663275788097\n"
                    ]
                }
            ],
            "source": [
                "poly3_kfolds_r2 = kfolds_polyreg(ALL_train_empty, 'gold_earned', 10, 3)\n",
                "print(f'Linear Regression R^2 with kfolds with k=10: {poly3_kfolds_r2}')\n",
                "r2_dict['PolynomialReg3KFolds'].append(poly3_kfolds_r2)"
            ]
        },
        {
            "attachments": {},
            "cell_type": "markdown",
            "metadata": {},
            "source": [
                "\n",
                "\n",
                "---\n",
                "\n"
            ]
        },
        {
            "attachments": {},
            "cell_type": "markdown",
            "metadata": {},
            "source": [
                "# **DAMAGE_TOTAL**"
            ]
        },
        {
            "attachments": {},
            "cell_type": "markdown",
            "metadata": {},
            "source": [
                "\n",
                "\n",
                "---\n",
                "\n"
            ]
        },
        {
            "attachments": {},
            "cell_type": "markdown",
            "metadata": {},
            "source": [
                "## **FILTERED DATASET**"
            ]
        },
        {
            "cell_type": "code",
            "execution_count": null,
            "metadata": {},
            "outputs": [
                {
                    "data": {
                        "text/html": [
                            "<div>\n",
                            "<style scoped>\n",
                            "    .dataframe tbody tr th:only-of-type {\n",
                            "        vertical-align: middle;\n",
                            "    }\n",
                            "\n",
                            "    .dataframe tbody tr th {\n",
                            "        vertical-align: top;\n",
                            "    }\n",
                            "\n",
                            "    .dataframe thead th {\n",
                            "        text-align: right;\n",
                            "    }\n",
                            "</style>\n",
                            "<table border=\"1\" class=\"dataframe\">\n",
                            "  <thead>\n",
                            "    <tr style=\"text-align: right;\">\n",
                            "      <th></th>\n",
                            "      <th>Features to Predict kda</th>\n",
                            "      <th>with_outliers</th>\n",
                            "      <th>no_outliers</th>\n",
                            "    </tr>\n",
                            "  </thead>\n",
                            "  <tbody>\n",
                            "    <tr>\n",
                            "      <th>0</th>\n",
                            "      <td>assists</td>\n",
                            "      <td>-0.073845</td>\n",
                            "      <td>-0.075284</td>\n",
                            "    </tr>\n",
                            "    <tr>\n",
                            "      <th>4</th>\n",
                            "      <td>deaths</td>\n",
                            "      <td>0.053089</td>\n",
                            "      <td>0.051748</td>\n",
                            "    </tr>\n",
                            "    <tr>\n",
                            "      <th>5</th>\n",
                            "      <td>kda</td>\n",
                            "      <td>0.080911</td>\n",
                            "      <td>0.081268</td>\n",
                            "    </tr>\n",
                            "    <tr>\n",
                            "      <th>8</th>\n",
                            "      <td>time_cc</td>\n",
                            "      <td>-0.089200</td>\n",
                            "      <td>-0.089351</td>\n",
                            "    </tr>\n",
                            "  </tbody>\n",
                            "</table>\n",
                            "</div>"
                        ],
                        "text/plain": [
                            "  Features to Predict kda  with_outliers  no_outliers\n",
                            "0                 assists      -0.073845    -0.075284\n",
                            "4                  deaths       0.053089     0.051748\n",
                            "5                     kda       0.080911     0.081268\n",
                            "8                 time_cc      -0.089200    -0.089351"
                        ]
                    },
                    "execution_count": 183,
                    "metadata": {},
                    "output_type": "execute_result"
                }
            ],
            "source": [
                "pearson_dmg_total[abs(pearson_dmg_total['with_outliers']) < 0.1]"
            ]
        },
        {
            "cell_type": "code",
            "execution_count": null,
            "metadata": {},
            "outputs": [],
            "source": [
                "# Check pearson_dmg_total again to find these values\n",
                "filter_out = list(pearson_dmg_total[abs(pearson_dmg_total['with_outliers']) < 0.1]['Features to Predict kda'])\n",
                "ALL_train_filtered = ALL_train.drop(filter_out, axis=1)\n",
                "ALL_test_filtered = ALL_test.drop(filter_out, axis=1)"
            ]
        },
        {
            "attachments": {},
            "cell_type": "markdown",
            "metadata": {},
            "source": [
                "\n",
                "\n",
                "---\n",
                "\n"
            ]
        },
        {
            "attachments": {},
            "cell_type": "markdown",
            "metadata": {},
            "source": [
                "## **LINEAR REGRESSION MODEL WITH ALL FEATURES**"
            ]
        },
        {
            "cell_type": "code",
            "execution_count": null,
            "metadata": {},
            "outputs": [
                {
                    "name": "stdout",
                    "output_type": "stream",
                    "text": [
                        "Linear Regression R^2 with All Features = 0.8896762593107319\n"
                    ]
                }
            ],
            "source": [
                "linreg_r2 = create_linreg(ALL_train, ALL_test, 'damage_total', 'damage_total_all')\n",
                "print(f'Linear Regression R^2 with All Features = {linreg_r2}')\n",
                "r2_dict[\"LinearRegression\"].append(linreg_r2)"
            ]
        },
        {
            "attachments": {},
            "cell_type": "markdown",
            "metadata": {},
            "source": [
                "\n",
                "\n",
                "---\n",
                "\n"
            ]
        },
        {
            "attachments": {},
            "cell_type": "markdown",
            "metadata": {},
            "source": [
                "## **LINEAR REGRESSION MODEL WITH FILTERED FEATURES**"
            ]
        },
        {
            "cell_type": "code",
            "execution_count": null,
            "metadata": {},
            "outputs": [
                {
                    "name": "stdout",
                    "output_type": "stream",
                    "text": [
                        "Linear Regression R^2 with Filtered Features = 0.8693080257587391\n"
                    ]
                }
            ],
            "source": [
                "linreg_r2_filtered = create_linreg(ALL_train_filtered, ALL_test_filtered, 'damage_total', 'damage_total_filtered')\n",
                "print(f'Linear Regression R^2 with Filtered Features = {linreg_r2_filtered}')\n",
                "r2_dict[\"LinearRegressionFiltered\"].append(linreg_r2_filtered)"
            ]
        },
        {
            "attachments": {},
            "cell_type": "markdown",
            "metadata": {},
            "source": [
                "\n",
                "\n",
                "---\n",
                "\n"
            ]
        },
        {
            "attachments": {},
            "cell_type": "markdown",
            "metadata": {},
            "source": [
                "## **LINEAR REGRESSION EVALUATION WITH KFOLDS CROSS VALIDATION**"
            ]
        },
        {
            "cell_type": "code",
            "execution_count": null,
            "metadata": {},
            "outputs": [
                {
                    "name": "stdout",
                    "output_type": "stream",
                    "text": [
                        "Linear Regression R^2 with kfolds with k=10: 0.8810480354608279\n"
                    ]
                }
            ],
            "source": [
                "# This is for the k-folds cross validation of the LinearRegression model\n",
                "linreg_kfolds_r2 = kfolds_linreg(ALL_train_empty, 'damage_total', 10)\n",
                "print(f'Linear Regression R^2 with kfolds with k=10: {linreg_kfolds_r2}')\n",
                "r2_dict['LinearRegressionKFolds'].append(linreg_kfolds_r2)"
            ]
        },
        {
            "attachments": {},
            "cell_type": "markdown",
            "metadata": {},
            "source": [
                "\n",
                "\n",
                "---\n",
                "\n"
            ]
        },
        {
            "attachments": {},
            "cell_type": "markdown",
            "metadata": {},
            "source": [
                "## **POLYNOMIAL REGRESSION MODEL WITH ALL FEATURES**"
            ]
        },
        {
            "cell_type": "code",
            "execution_count": null,
            "metadata": {},
            "outputs": [
                {
                    "name": "stdout",
                    "output_type": "stream",
                    "text": [
                        "Polynomial Regression (Degree = 2) R^2 with All Features = 0.9070774288478524\n"
                    ]
                }
            ],
            "source": [
                "poly2_r2 = create_polyreg(ALL_train, ALL_test, 'damage_total', 'damage_total_all', 2)\n",
                "print(f'Polynomial Regression (Degree = 2) R^2 with All Features = {poly2_r2}')\n",
                "r2_dict['PolynomialReg2'].append(poly2_r2)"
            ]
        },
        {
            "cell_type": "code",
            "execution_count": null,
            "metadata": {},
            "outputs": [
                {
                    "name": "stdout",
                    "output_type": "stream",
                    "text": [
                        "Polynomial Regression (Degree = 2) R^2 with All Features = 0.9053036723145104\n"
                    ]
                }
            ],
            "source": [
                "poly3_r2 = create_polyreg(ALL_train, ALL_test, 'damage_total', 'damage_total_all', 3)\n",
                "print(f'Polynomial Regression (Degree = 2) R^2 with All Features = {poly3_r2}')\n",
                "r2_dict['PolynomialReg3'].append(poly3_r2)"
            ]
        },
        {
            "attachments": {},
            "cell_type": "markdown",
            "metadata": {},
            "source": [
                "\n",
                "\n",
                "---\n",
                "\n"
            ]
        },
        {
            "attachments": {},
            "cell_type": "markdown",
            "metadata": {},
            "source": [
                "## **POLYNOMIAL REGRESSION WITH FILTERED FEATURES**"
            ]
        },
        {
            "cell_type": "code",
            "execution_count": null,
            "metadata": {},
            "outputs": [
                {
                    "name": "stdout",
                    "output_type": "stream",
                    "text": [
                        "Polynomial Regress (Degree=2) R^2 with Filtered Features = 0.8881209264497643\n"
                    ]
                }
            ],
            "source": [
                "poly2_r2_filtered = create_polyreg(ALL_train_filtered, ALL_test_filtered, 'damage_total', 'damage_total_filtered', 2)\n",
                "print(f'Polynomial Regress (Degree=2) R^2 with Filtered Features = {poly2_r2_filtered}')\n",
                "r2_dict['PolyReg2Filtered'].append(poly2_r2_filtered)"
            ]
        },
        {
            "cell_type": "code",
            "execution_count": null,
            "metadata": {},
            "outputs": [
                {
                    "name": "stdout",
                    "output_type": "stream",
                    "text": [
                        "Polynomial Regress (Degree=2) R^2 with Filtered Features = 0.8894179182309134\n"
                    ]
                }
            ],
            "source": [
                "poly3_r2_filtered = create_polyreg(ALL_train_filtered, ALL_test_filtered, 'damage_total', 'damage_total_filtered', 3)\n",
                "print(f'Polynomial Regress (Degree=2) R^2 with Filtered Features = {poly3_r2_filtered}')\n",
                "r2_dict['PolyReg3Filtered'].append(poly3_r2_filtered)"
            ]
        },
        {
            "attachments": {},
            "cell_type": "markdown",
            "metadata": {},
            "source": [
                "\n",
                "\n",
                "---\n",
                "\n"
            ]
        },
        {
            "attachments": {},
            "cell_type": "markdown",
            "metadata": {},
            "source": [
                "## **POLYNOMIAL REGRESSION EVALUATION WITH KFOLDS CROSS VALIDATION**"
            ]
        },
        {
            "cell_type": "code",
            "execution_count": null,
            "metadata": {},
            "outputs": [
                {
                    "name": "stdout",
                    "output_type": "stream",
                    "text": [
                        "Linear Regression R^2 with kfolds with k=10: 0.8959767758244958\n"
                    ]
                }
            ],
            "source": [
                "# This is for the k-folds cross validation of the LinearRegression model\n",
                "poly2_kfolds_r2 = kfolds_polyreg(ALL_train_empty, 'damage_total', 10, 2)\n",
                "print(f'Linear Regression R^2 with kfolds with k=10: {poly2_kfolds_r2}')\n",
                "r2_dict['PolynomialReg2KFolds'].append(poly2_kfolds_r2)"
            ]
        },
        {
            "cell_type": "code",
            "execution_count": null,
            "metadata": {},
            "outputs": [
                {
                    "name": "stdout",
                    "output_type": "stream",
                    "text": [
                        "Linear Regression R^2 with kfolds with k=10: 0.8888651646935049\n"
                    ]
                }
            ],
            "source": [
                "poly3_kfolds_r2 = kfolds_polyreg(ALL_train_empty, 'damage_total', 10, 3)\n",
                "print(f'Linear Regression R^2 with kfolds with k=10: {poly3_kfolds_r2}')\n",
                "r2_dict['PolynomialReg3KFolds'].append(poly3_kfolds_r2)"
            ]
        },
        {
            "attachments": {},
            "cell_type": "markdown",
            "metadata": {},
            "source": [
                "\n",
                "\n",
                "---\n",
                "\n"
            ]
        },
        {
            "attachments": {},
            "cell_type": "markdown",
            "metadata": {},
            "source": [
                "# **CONCLUSION OF DATA STATS**"
            ]
        },
        {
            "cell_type": "code",
            "execution_count": null,
            "metadata": {},
            "outputs": [
                {
                    "data": {
                        "text/html": [
                            "<div>\n",
                            "<style scoped>\n",
                            "    .dataframe tbody tr th:only-of-type {\n",
                            "        vertical-align: middle;\n",
                            "    }\n",
                            "\n",
                            "    .dataframe tbody tr th {\n",
                            "        vertical-align: top;\n",
                            "    }\n",
                            "\n",
                            "    .dataframe thead th {\n",
                            "        text-align: right;\n",
                            "    }\n",
                            "</style>\n",
                            "<table border=\"1\" class=\"dataframe\">\n",
                            "  <thead>\n",
                            "    <tr style=\"text-align: right;\">\n",
                            "      <th></th>\n",
                            "      <th>0</th>\n",
                            "      <th>1</th>\n",
                            "      <th>2</th>\n",
                            "    </tr>\n",
                            "  </thead>\n",
                            "  <tbody>\n",
                            "    <tr>\n",
                            "      <th>Targets (Uses R^2)</th>\n",
                            "      <td>kda</td>\n",
                            "      <td>gold_earned</td>\n",
                            "      <td>damage_total</td>\n",
                            "    </tr>\n",
                            "    <tr>\n",
                            "      <th>LinearRegression</th>\n",
                            "      <td>0.549322</td>\n",
                            "      <td>0.942574</td>\n",
                            "      <td>0.889676</td>\n",
                            "    </tr>\n",
                            "    <tr>\n",
                            "      <th>LinearRegressionFiltered</th>\n",
                            "      <td>0.549442</td>\n",
                            "      <td>0.935391</td>\n",
                            "      <td>0.869308</td>\n",
                            "    </tr>\n",
                            "    <tr>\n",
                            "      <th>LinearRegressionKFolds</th>\n",
                            "      <td>0.546678</td>\n",
                            "      <td>0.943116</td>\n",
                            "      <td>0.881048</td>\n",
                            "    </tr>\n",
                            "    <tr>\n",
                            "      <th>PolynomialReg2</th>\n",
                            "      <td>0.764512</td>\n",
                            "      <td>0.94712</td>\n",
                            "      <td>0.907077</td>\n",
                            "    </tr>\n",
                            "    <tr>\n",
                            "      <th>PolyReg2Filtered</th>\n",
                            "      <td>0.764311</td>\n",
                            "      <td>0.942951</td>\n",
                            "      <td>0.888121</td>\n",
                            "    </tr>\n",
                            "    <tr>\n",
                            "      <th>PolynomialReg2KFolds</th>\n",
                            "      <td>0.752881</td>\n",
                            "      <td>0.949916</td>\n",
                            "      <td>0.895977</td>\n",
                            "    </tr>\n",
                            "    <tr>\n",
                            "      <th>PolynomialReg3</th>\n",
                            "      <td>-0.832291</td>\n",
                            "      <td>0.874016</td>\n",
                            "      <td>0.905304</td>\n",
                            "    </tr>\n",
                            "    <tr>\n",
                            "      <th>PolyReg3Filtered</th>\n",
                            "      <td>0.764311</td>\n",
                            "      <td>0.877384</td>\n",
                            "      <td>0.889418</td>\n",
                            "    </tr>\n",
                            "    <tr>\n",
                            "      <th>PolynomialReg3KFolds</th>\n",
                            "      <td>-2.346471</td>\n",
                            "      <td>0.768666</td>\n",
                            "      <td>0.888865</td>\n",
                            "    </tr>\n",
                            "  </tbody>\n",
                            "</table>\n",
                            "</div>"
                        ],
                        "text/plain": [
                            "                                 0            1             2\n",
                            "Targets (Uses R^2)             kda  gold_earned  damage_total\n",
                            "LinearRegression          0.549322     0.942574      0.889676\n",
                            "LinearRegressionFiltered  0.549442     0.935391      0.869308\n",
                            "LinearRegressionKFolds    0.546678     0.943116      0.881048\n",
                            "PolynomialReg2            0.764512      0.94712      0.907077\n",
                            "PolyReg2Filtered          0.764311     0.942951      0.888121\n",
                            "PolynomialReg2KFolds      0.752881     0.949916      0.895977\n",
                            "PolynomialReg3           -0.832291     0.874016      0.905304\n",
                            "PolyReg3Filtered          0.764311     0.877384      0.889418\n",
                            "PolynomialReg3KFolds     -2.346471     0.768666      0.888865"
                        ]
                    },
                    "execution_count": 194,
                    "metadata": {},
                    "output_type": "execute_result"
                }
            ],
            "source": [
                "r2_frame = pd.DataFrame.from_dict(r2_dict)\n",
                "r2_frame.T"
            ]
        },
        {
            "attachments": {},
            "cell_type": "markdown",
            "metadata": {},
            "source": [
                "- As it can be seen from the graphs, the best performing datset was the gold_earned dataset. This means gold_earned is hte best predictor for performance based on the other numerical variables present in the dataset"
            ]
        },
        {
            "attachments": {},
            "cell_type": "markdown",
            "metadata": {},
            "source": [
                "# **EXTRA FUNCTIONS**\n",
                "\n",
                "---\n",
                "\n"
            ]
        },
        {
            "cell_type": "code",
            "execution_count": null,
            "metadata": {},
            "outputs": [],
            "source": [
                "# Create the final model using the train/test split\n",
                "def create_expreg(train, test, target, name):\n",
                "    # The exponential regression function cannot take values less\n",
                "    # than zero, so we need to remove those\n",
                "    new_train = train[train['kda'] > 0]\n",
                "    new_test = test[test['kda'] > 0]\n",
                "\n",
                "\n",
                "    # First impute training median into test set\n",
                "    for col in test.columns:\n",
                "        test[col].fillna(train[col].median(), inplace=True)\n",
                "    \n",
                "    # Factor out the variables first in train set\n",
                "    X_train = new_train.drop(target, axis=1)\n",
                "    y_train = new_train[target]\n",
                "\n",
                "    X_test = new_test.drop(target, axis=1)\n",
                "    y_test = new_test[target]\n",
                "\n",
                "    # Now make the model of the regression line\n",
                "    model = LinearRegression()\n",
                "    model.fit(X_train, np.log(y_train))\n",
                "    y_pred = model.predict(X_test)\n",
                "\n",
                "    # Get the residuals and plot the data\n",
                "    residuals = np.subtract(y_test, y_pred)\n",
                "\n",
                "    r2_val = r2_score(y_test, y_pred)\n",
                "\n",
                "    # y_pred and residuals plot\n",
                "    fig, ax = plt.subplots(figsize=(20,10))\n",
                "    plt.suptitle(f'{target} Predicted Values and Residuals (R^2 = {r2_val:.5f})', fontsize=40, fontweight='bold')\n",
                "\n",
                "\n",
                "    ax.scatter(y_pred, residuals)\n",
                "    ax.set_xlabel(f'{target} Predicted Values', fontsize=20, fontdict=dict(weight='bold'))\n",
                "    ax.set_ylabel(f'{target} Residuals', fontsize=20, fontdict=dict(weight='bold'))\n",
                "    ax.axhline(y = 0, color = 'b')\n",
                "\n",
                "    plt.savefig(f'{path}{name}_expreg_residual')\n",
                "    plt.close()\n",
                "\n",
                "    # Make another plot for y_pred and y_test plot\n",
                "    fig, ax = plt.subplots(figsize=(20,10))\n",
                "    plt.suptitle(f'{target} Predicted Values and Test Values (R^2 = {r2_val:.5f})', fontsize=40, fontweight='bold')\n",
                "\n",
                "\n",
                "    ax.scatter(y_pred, y_test)\n",
                "    ax.set_xlabel(f'{target} Predicted Values', fontsize=20, fontdict=dict(weight='bold'))\n",
                "    ax.set_ylabel(f'{target} Test Values', fontsize=20, fontdict=dict(weight='bold'))\n",
                "\n",
                "    plt.savefig(f'{path}{name}_expreg_predvstest')\n",
                "    plt.close()\n",
                "\n",
                "    return r2_val"
            ]
        }
    ],
    "metadata": {
        "kernelspec": {
            "display_name": "Python 3",
            "language": "python",
            "name": "python3"
        },
        "language_info": {
            "codemirror_mode": {
                "name": "ipython",
                "version": 3
            },
            "file_extension": ".py",
            "mimetype": "text/x-python",
            "name": "python",
            "nbconvert_exporter": "python",
            "pygments_lexer": "ipython3",
            "version": "3.10.0"
        },
        "vscode": {
            "interpreter": {
                "hash": "b106179a92a93ccba8784c4e4780d92069acde6c2b74be1316a4fb68a843bf7f"
            }
        }
    },
    "nbformat": 4,
    "nbformat_minor": 5
}
